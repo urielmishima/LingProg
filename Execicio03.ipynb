{
 "cells": [
  {
   "cell_type": "markdown",
   "metadata": {},
   "source": [
    "## Uriel Henrique Marques Farias Mishima\n",
    "\n",
    "## RA: 81717300"
   ]
  },
  {
   "cell_type": "markdown",
   "metadata": {},
   "source": [
    "Faça um Programa que peça dois números e imprima o maior deles. "
   ]
  },
  {
   "cell_type": "code",
   "execution_count": 29,
   "metadata": {},
   "outputs": [
    {
     "name": "stdout",
     "output_type": "stream",
     "text": [
      "Digite o primeiro numero: 10\n",
      "Digite o segundo numero: 5\n",
      "O maior numero digitado foi o primeiro com o valor de 10.0\n"
     ]
    }
   ],
   "source": [
    "import operator\n",
    "\n",
    "numeros = { \n",
    "    \"primeiro\" : float(input(\"Digite o primeiro numero: \")),\n",
    "    \"segundo\" : float(input(\"Digite o segundo numero: \"))\n",
    "}\n",
    "\n",
    "maior = max(numeros.items(), key=operator.itemgetter(1))\n",
    "\n",
    "print(f'O maior numero digitado foi o {maior[0]} com o valor de {maior[1]}')"
   ]
  },
  {
   "cell_type": "markdown",
   "metadata": {},
   "source": [
    "Faça um Programa que verifique se uma letra digitada é vogal ou consoante."
   ]
  },
  {
   "cell_type": "code",
   "execution_count": 38,
   "metadata": {},
   "outputs": [
    {
     "name": "stdout",
     "output_type": "stream",
     "text": [
      "Digite uma letra: ad\n",
      "Digite uma letra: ad\n",
      "Digite uma letra: ad\n",
      "Digite uma letra: a\n",
      "A letra a é uma vogal\n"
     ]
    }
   ],
   "source": [
    "letra = input(\"Digite uma letra: \")\n",
    "\n",
    "while len(letra) > 1:\n",
    "    letra = input(\"Digite uma letra: \")\n",
    "\n",
    "print(f'A letra {letra} é uma {\"vogal\" if letra.lower() in \"aeiou\" else \"consoante\"}')"
   ]
  },
  {
   "cell_type": "markdown",
   "metadata": {},
   "source": [
    "Faça um programa para a leitura de duas notas parciais de um aluno. O programa deve calcular a média alcançada por aluno e apresentar: \n",
    "- A mensagem \"Aprovado\", se a média alcançada for maior ou igual a sete; \n",
    "- A mensagem \"Reprovado\", se a média for menor do que sete; \n",
    "- A mensagem \"Aprovado com Distinção\", se a média for igual a dez. "
   ]
  },
  {
   "cell_type": "code",
   "execution_count": 46,
   "metadata": {},
   "outputs": [
    {
     "name": "stdout",
     "output_type": "stream",
     "text": [
      "Digite a primeira nota: 5\n",
      "Digite a segunda nota: 10\n",
      "Aprovado\n"
     ]
    }
   ],
   "source": [
    "notas = [\n",
    "    float(input('Digite a primeira nota: ')),\n",
    "    float(input('Digite a segunda nota: '))\n",
    "]\n",
    "\n",
    "media = sum(notas) /len(notas)\n",
    "\n",
    "if media == 10:\n",
    "    mensagem = \"Aprovado com Distinção\"\n",
    "elif media < 7:\n",
    "    mensagem = \"Reprovado\"\n",
    "else:\n",
    "    mensagem = \"Aprovado\"\n",
    "    \n",
    "print(mensagem)"
   ]
  },
  {
   "cell_type": "markdown",
   "metadata": {},
   "source": [
    " Faça um Programa que leia três números e mostre-os em ordem decrescente. "
   ]
  },
  {
   "cell_type": "code",
   "execution_count": 49,
   "metadata": {},
   "outputs": [
    {
     "name": "stdout",
     "output_type": "stream",
     "text": [
      "Digite o primeiro numero: 1\n",
      "Digite o segundo numero: 2\n",
      "Digite o terceiro numero: 3\n",
      "[3.0, 2.0, 1.0]\n"
     ]
    }
   ],
   "source": [
    "numeros = [\n",
    "    float(input('Digite o primeiro numero: ')),\n",
    "    float(input('Digite o segundo numero: ')),\n",
    "    float(input('Digite o terceiro numero: '))\n",
    "]\n",
    "\n",
    "print(sorted(numeros)[::-1])"
   ]
  },
  {
   "cell_type": "markdown",
   "metadata": {},
   "source": [
    "As Organizações Tabajara resolveram dar um aumento de salário aos seus colaboradores e lhe contrataram para desenvolver o programa que calculará os reajustes. Faça um programa que recebe o salário de um colaborador e o reajuste segundo o seguinte critério, baseado no salário atual: \n",
    "    - salários até R$ 280,00 (incluindo) : aumento de 20%\n",
    "- salários entre R$ 280,00 e R$ 700,00 : aumento de 15% \n",
    "- salários entre R$ 700,00 e R$ 1500,00 : aumento de 10% \n",
    "- salários de R$ 1500,00 em diante : aumento de 5% \n",
    "Após o aumento ser realizado, informe na tela: \n",
    "    - o salário antes do reajuste; \n",
    "    - o percentual de aumento aplicado; \n",
    "    - o valor do aumento; \n",
    "    - o novo salário, após o aumento. "
   ]
  },
  {
   "cell_type": "code",
   "execution_count": 55,
   "metadata": {},
   "outputs": [
    {
     "name": "stdout",
     "output_type": "stream",
     "text": [
      "Digite o salário do colaborador: 1500\n",
      "O salário antes do reajuste: 1500.0\n",
      "O percentual de aumento aplicado: 0.1\n",
      "O valor do aumento: 150.0\n",
      "O novo salário, após o aumento: 1650.0\n"
     ]
    }
   ],
   "source": [
    "salario_atual = float(input(\"Digite o salário do colaborador: \"))\n",
    "\n",
    "faixas = [\n",
    "    [1500, 0.05],\n",
    "    [700, 0.1],\n",
    "    [280, 0.15],\n",
    "    [0, 0.2]\n",
    "]\n",
    "\n",
    "i = -1\n",
    "\n",
    "for faixa in faixas:\n",
    "    i += 1\n",
    "    if salario_atual > faixa[0]:\n",
    "        valor_aumento = salario_atual * faixa[1]\n",
    "        salario_reajustado = salario_atual + valor_aumento\n",
    "        break;\n",
    "        \n",
    "print(\n",
    "    f'O salário antes do reajuste: {salario_atual}',\n",
    "    f'O percentual de aumento aplicado: {faixas[i][1]}',\n",
    "    f'O valor do aumento: {valor_aumento}',\n",
    "    f'O novo salário, após o aumento: {salario_reajustado}',\n",
    "    sep='\\n'\n",
    ")\n",
    "    "
   ]
  },
  {
   "cell_type": "markdown",
   "metadata": {},
   "source": [
    "Faça um Programa que leia um número e exiba o dia correspondente da semana. (1-Domingo, 2- Segunda, etc.), se digitar outro valor deve aparecer valor inválido. "
   ]
  },
  {
   "cell_type": "code",
   "execution_count": 62,
   "metadata": {},
   "outputs": [
    {
     "name": "stdout",
     "output_type": "stream",
     "text": [
      "Digite um numero de 1 a 7: 1\n",
      "1 - Domingo\n"
     ]
    }
   ],
   "source": [
    "dias_da_semana = ['Domingo', 'Segunda', 'Terça', 'Quarta', 'Quinta', 'Sexta', 'Sabado']\n",
    "\n",
    "numero = int(input(\"Digite um numero de 1 a 7: \"))\n",
    "\n",
    "if numero > 0 and numero < 8:\n",
    "    dia = dias_da_semana[numero - 1]\n",
    "else:\n",
    "    dia = 'valor inválido'\n",
    "      \n",
    "print(f'{numero} - {dia}')\n"
   ]
  },
  {
   "cell_type": "markdown",
   "metadata": {},
   "source": [
    "Faça um programa que lê as duas notas parciais obtidas por um aluno numa disciplina ao longo de um semestre, e calcule a sua média. A atribuição de conceitos obedece à tabela abaixo: \n",
    "  \n",
    "Média de Aproveitamento  \tConceito   \n",
    "Entre 9.0 e 10.0        \tA   \n",
    "Entre 7.5 e 9.0         \tB   \n",
    "Entre 6.0 e 7.5         \tC   \n",
    "Entre 4.0 e 6.0         \tD   \n",
    "Entre 4.0 e zero        \tE \n",
    "\n",
    "O algoritmo deve mostrar na tela as notas, a média, o conceito correspondente e a mensagem “APROVADO” se o conceito for A, B ou C ou “REPROVADO” se o conceito for D ou E"
   ]
  },
  {
   "cell_type": "code",
   "execution_count": 70,
   "metadata": {},
   "outputs": [
    {
     "name": "stdout",
     "output_type": "stream",
     "text": [
      "Digite a primeira nota: 5\n",
      "Digite a segunda nota: 5\n",
      "Média: 5.0\n",
      "Conceito: D\n",
      "Mensagem: REPROVADO\n"
     ]
    }
   ],
   "source": [
    "notas = [\n",
    "    float(input('Digite a primeira nota: ')),\n",
    "    float(input('Digite a segunda nota: '))\n",
    "]\n",
    "\n",
    "media = sum(notas) / len(notas)\n",
    "\n",
    "aproveitamentos = [\n",
    "    [10, 'A'],\n",
    "    [9, 'B'],\n",
    "    [7.5, 'C'],\n",
    "    [6, 'D'],    \n",
    "    [4, 'E']\n",
    "]\n",
    "\n",
    "for aproveitamento in aproveitamentos:\n",
    "    if media <= aproveitamento[0]:\n",
    "        conceito = aproveitamento[1]\n",
    "\n",
    "print(\n",
    "    f'Média: {media}',\n",
    "    f'Conceito: {conceito}',\n",
    "    f'Mensagem: {\"APROVADO\" if conceito in \"ABC\" else \"REPROVADO\"}',\n",
    "    sep='\\n'\n",
    ")        "
   ]
  },
  {
   "cell_type": "markdown",
   "metadata": {},
   "source": [
    " Faça um Programa que peça os 3 lados de um triângulo. O programa deverá informar se os valores podem ser um triângulo. Indique, caso os lados formem um triângulo, se o mesmo é: equilátero, isósceles ou escaleno. Dicas: \n",
    " \n",
    "- Três lados formam um triângulo quando a soma de quaisquer dois lados for maior que o terceiro; \n",
    "- Triângulo Equilátero: três lados iguais; \n",
    "- Triângulo Isósceles: quaisquer dois lados iguais; \n",
    "- Triângulo Escaleno: três lados diferentes; "
   ]
  },
  {
   "cell_type": "code",
   "execution_count": 75,
   "metadata": {},
   "outputs": [
    {
     "name": "stdout",
     "output_type": "stream",
     "text": [
      "Digite o primeiro lado: 5\n",
      "Digite o segundo lado: 10\n",
      "Digite o terceiro lado: 5\n",
      "Os lados [5.0, 10.0, 5.0] não formam um triangulo\n"
     ]
    }
   ],
   "source": [
    "lados = [\n",
    "    float(input('Digite o primeiro lado: ')),\n",
    "    float(input('Digite o segundo lado: ')),\n",
    "    float(input('Digite o terceiro lado: '))\n",
    "]\n",
    "\n",
    "if lados[0] + lados[1] > lados[2] and lados[1] + lados[2] > lados[0] and lados[0] + lados[2] > lados[1]:\n",
    "    mensagem = 'formam um triangulo '\n",
    "    igualdade = [\n",
    "        lados[0] == lados[1],\n",
    "        lados[1] == lados[2],\n",
    "        lados[0] == lados[2]\n",
    "    ]\n",
    "    if igualdade[0] and igualdade[1] and igualdade[2]:\n",
    "        mensagem += 'equilátero'\n",
    "    elif not (igualdade[0] or igualdade[1] or igualdade[2]):\n",
    "        mensagem += 'escaleno'\n",
    "    else:\n",
    "        mensagem += 'isósceles'\n",
    "else:\n",
    "    mensagem = 'não formam um triangulo'\n",
    "\n",
    "print(f'Os lados {lados} {mensagem}')"
   ]
  },
  {
   "cell_type": "markdown",
   "metadata": {},
   "source": [
    "Faça um programa que calcule as raízes de uma equação do segundo grau, na forma ax2 + bx + c. O programa deverá pedir os valores de a, b e c e fazer as consistências, informando ao usuário nas seguintes situações: \n",
    "- Se o usuário informar o valor de A igual a zero, a equação não é do segundo grau e o programa não deve fazer pedir os demais valores, sendo encerrado; \n",
    "- Se o delta calculado for negativo, a equação não possui raizes reais. Informe ao usuário e encerre o programa; \n",
    "- Se o delta calculado for igual a zero a equação possui apenas uma raiz real; informe-a ao usuário; \n",
    "- Se o delta for positivo, a equação possui duas raiz reais; informe-as ao usuário; "
   ]
  },
  {
   "cell_type": "code",
   "execution_count": 84,
   "metadata": {},
   "outputs": [
    {
     "name": "stdout",
     "output_type": "stream",
     "text": [
      "Digite o valor de a: 10\n",
      "Digite o valor de b: 6\n",
      "Digite o valor de c: 10\n",
      "A equação não possui raizes reais\n"
     ]
    }
   ],
   "source": [
    "a = float(input('Digite o valor de a: '))\n",
    "if a != 0:\n",
    "    b = float(input('Digite o valor de b: '))\n",
    "    c = float(input('Digite o valor de c: '))\n",
    "    delta = b ** 2 - 4*a*c\n",
    "    if delta < 0:\n",
    "        print('A equação não possui raizes reais')\n",
    "    else:\n",
    "        x1 = (-b + delta ** (1/2))/2*a\n",
    "        if delta > 0:\n",
    "            x2 = (-b - delta ** (1/2))/2*a\n",
    "            print(f'A equação possui 2 raizes reais: x1 = {x1} e x2 = {x2}')\n",
    "        else:\n",
    "            print(f'A equação possui apenas uma raiz real: x1 = {x1}')\n",
    "        \n",
    "else:\n",
    "    print('Se o valor de a é 0, não é uma equação do segundo grau')"
   ]
  },
  {
   "cell_type": "markdown",
   "metadata": {},
   "source": [
    "Faça um Programa para um caixa eletrônico. O programa deverá perguntar ao usuário a valor do saque e depois informar quantas notas de cada valor serão fornecidas. As notas disponíveis serão as de 1, 5, 10, 50 e 100 reais. O valor mínimo é de 10 reais e o máximo de 600 reais. O programa não deve se preocupar com a quantidade de notas existentes na máquina. \n",
    "- Exemplo 1: Para sacar a quantia de 256 reais, o programa fornece duas notas de 100, uma nota de 50, uma nota de 5 e uma nota de 1; \n",
    "- Exemplo 2: Para sacar a quantia de 399 reais, o programa fornece três notas de 100, uma nota de 50, quatro notas de 10, uma nota de 5 e quatro notas de 1. "
   ]
  },
  {
   "cell_type": "code",
   "execution_count": 87,
   "metadata": {},
   "outputs": [
    {
     "name": "stdout",
     "output_type": "stream",
     "text": [
      "Digite o valor do saque (10 até 600 reais)399\n",
      "Quantidade de notas de 100: 3\n",
      "Quantidade de notas de 50: 1\n",
      "Quantidade de notas de 10: 4\n",
      "Quantidade de notas de 5: 1\n",
      "Quantidade de notas de 1: 4\n"
     ]
    }
   ],
   "source": [
    "valor = float(input('Digite o valor do saque (10 até 600 reais)'))\n",
    "\n",
    "if valor < 10 or valor > 600:\n",
    "    print('Valor inválido')\n",
    "else:\n",
    "    notas100 = int(valor/100)\n",
    "    resto = int(valor%100)\n",
    "    notas50 = int(resto/50)\n",
    "    resto = int(resto%50)\n",
    "    notas10 = int(resto/10)\n",
    "    resto = int(resto%10)\n",
    "    notas5 = int(resto/5)\n",
    "    resto = int(resto%5)\n",
    "    notas1 = resto\n",
    "    print(\n",
    "        f'Quantidade de notas de 100: {notas100}',\n",
    "        f'Quantidade de notas de 50: {notas50}',\n",
    "        f'Quantidade de notas de 10: {notas10}',\n",
    "        f'Quantidade de notas de 5: {notas5}',\n",
    "        f'Quantidade de notas de 1: {notas1}',\n",
    "        sep='\\n'\n",
    "    )"
   ]
  },
  {
   "cell_type": "markdown",
   "metadata": {},
   "source": [
    "Faça um programa que faça 5 perguntas para uma pessoa sobre um crime. As perguntas são:\n",
    "\n",
    "\"Telefonou para a vítima?\" \n",
    "\"Esteve no local do crime?\" \n",
    "\"Mora perto da vítima?\" \n",
    "\"Devia para a vítima?\" \n",
    "\"Já trabalhou com a vítima?\"  \n",
    "\n",
    "O programa deve no final emitir uma classificação sobre a participação da pessoa no crime. Se a pessoa responder positivamente a 2 questões ela deve ser classificada como \"Suspeita\", entre 3 e 4 como \"Cúmplice\" e 5 como \"Assassino\". Caso contrário, ele será classificado como \"Inocente\"."
   ]
  },
  {
   "cell_type": "code",
   "execution_count": 96,
   "metadata": {},
   "outputs": [
    {
     "name": "stdout",
     "output_type": "stream",
     "text": [
      "Telefonou para a vítima? (1 - Sim, 0 - Não)0\n",
      "Esteve no local do crime? (1 - Sim, 0 - Não)0\n",
      "Mora perto da vítima? (1 - Sim, 0 - Não)0\n",
      "Devia para a vítima? (1 - Sim, 0 - Não)0\n",
      "Já trabalhou com a vítima? (1 - Sim, 0 - Não)0\n",
      "Classificação: Inocente\n"
     ]
    }
   ],
   "source": [
    "opcoes = '(1 - Sim, 0 - Não)'\n",
    "perguntas = [\n",
    "    \"Telefonou para a vítima?\",\n",
    "    \"Esteve no local do crime?\", \n",
    "    \"Mora perto da vítima?\",\n",
    "    \"Devia para a vítima?\",\n",
    "    \"Já trabalhou com a vítima?\"\n",
    "]\n",
    "respostas = 1\n",
    "for pergunta in perguntas:\n",
    "    respostas += int(input(f'{pergunta} {opcoes}'))\n",
    "\n",
    "classificacao = ['Inocente','Inocente','Suspeita','Cúmplice','Cúmplice','Assassino']\n",
    "    \n",
    "print(f'Classificação: {classificacao[respostas-1]}')"
   ]
  },
  {
   "cell_type": "markdown",
   "metadata": {},
   "source": [
    "Uma fruteira está vendendo frutas com a seguinte tabela de preços:\n",
    "\n",
    "                Até 5 Kg           Acima de 5 Kg \n",
    "    Morango     R$ 2,50 por Kg     R$ 2,20 por Kg \n",
    "    Maçã        R$ 1,80 por Kg     R$ 1,50 por Kg \n",
    " \n",
    "Se o cliente comprar mais de 8 Kg em frutas ou o valor total da compra ultrapassar R$ 25,00, receberá ainda um desconto de 10% sobre este total. Escreva um algoritmo para ler a quantidade (em Kg) de morangos e a quantidade (em Kg) de maças adquiridas e escreva o valor a ser pago pelo cliente. "
   ]
  },
  {
   "cell_type": "code",
   "execution_count": 112,
   "metadata": {},
   "outputs": [
    {
     "name": "stdout",
     "output_type": "stream",
     "text": [
      "Digite quantos kilos de morango:1000\n",
      "Digite quantos kilos de maçã: 1000\n",
      "Valor a ser pago: 3330.00\n"
     ]
    }
   ],
   "source": [
    "morangos = float(input(\"Digite quantos kilos de morango:\"))\n",
    "macas = float(input(\"Digite quantos kilos de maçã: \"))\n",
    "\n",
    "valor_morangos = morangos * 2.5 if morangos < 5 else morangos * 2.20\n",
    "valor_macas = macas * 1.8 if macas < 5 else macas * 1.5\n",
    "\n",
    "sub_total = valor_morangos + valor_macas\n",
    "\n",
    "print(f'Valor a ser pago: {sub_total * 0.9 if morangos + macas > 8 or sub_total > 5 else sub_total:.2f}')"
   ]
  },
  {
   "cell_type": "markdown",
   "metadata": {},
   "source": [
    "Faça um programa que peça uma nota, entre zero e dez. Mostre uma mensagem caso o valor seja inválido e continue pedindo até que o usuário informe um valor válido."
   ]
  },
  {
   "cell_type": "code",
   "execution_count": 2,
   "metadata": {},
   "outputs": [
    {
     "name": "stdout",
     "output_type": "stream",
     "text": [
      "Digite uma nota de 0 a 10: 0\n",
      "Nota: 0.0\n"
     ]
    }
   ],
   "source": [
    "nota = float(input(\"Digite uma nota de 0 a 10: \"))\n",
    "\n",
    "while nota > 10 or nota < 0:\n",
    "    print('Valor inválido')\n",
    "    nota = float(input('Digite uma nota de \"0 a 10\": '))\n",
    "\n",
    "print(f'Nota: {nota}')"
   ]
  },
  {
   "cell_type": "markdown",
   "metadata": {},
   "source": [
    "Faça um programa que leia e valide as seguintes informações: \n",
    "\n",
    "    Nome: maior que 3 caracteres; \n",
    "    Idade: entre 0 e 150; \n",
    "    Salário: maior que zero; \n",
    "    Sexo: 'f' ou 'm'; \n",
    "    Estado Civil: 's', 'c', 'v', 'd';"
   ]
  },
  {
   "cell_type": "code",
   "execution_count": 9,
   "metadata": {},
   "outputs": [
    {
     "name": "stdout",
     "output_type": "stream",
     "text": [
      "Digite o nome (Maior que 3 caracteres): Uriel\n",
      "Digite a idade (Entre 0 e 150): 19\n",
      "Digite o salário (Maior que 0): 12345\n",
      "Digite o sexo (M ou F): M\n",
      "Digite o estado civil ('s', 'c', 'v', 'd'): S\n",
      "Nome: Uriel\n",
      "Idade: 19\n",
      "Salário: 12345.0\n",
      "Sexo: M\n",
      "Estado Civil: S\n"
     ]
    }
   ],
   "source": [
    "msg = 'Valor inválido'\n",
    "\n",
    "nome = input(\"Digite o nome (Maior que 3 caracteres): \")\n",
    "while len(nome) < 4:\n",
    "    print(msg)\n",
    "    nome = input(\"Digite o nome (Maior que 3 caracteres): \")\n",
    "\n",
    "idade = int(input(\"Digite a idade (Entre 0 e 150): \"))\n",
    "while idade < 0 or idade > 150:\n",
    "    print(msg)\n",
    "    idade = int(input(\"Digite a idade (Entre 0 e 150): \"))\n",
    "\n",
    "salario = float(input(\"Digite o salário (Maior que 0): \"))\n",
    "while salario < 0:\n",
    "    print(msg)\n",
    "    salario = float(input(\"Digite o salário (Maior q+ue 0): \"))\n",
    "\n",
    "sexo = input(\"Digite o sexo (M ou F): \")\n",
    "while sexo.lower() not in ['f', 'm']:\n",
    "    print(msg)\n",
    "    sexo = input(\"Digite o sexo (M ou F): \")\n",
    "\n",
    "estado_civil = input(\"Digite o estado civil ('s', 'c', 'v', 'd'): \")\n",
    "while estado_civil.lower() not in ['s', 'c', 'v', 'd']:\n",
    "    print(msg)\n",
    "    estado_civil = input(\"Digite o estado civil ('s', 'c', 'v', 'd'): \")\n",
    "    \n",
    "print(f'Nome: {nome}',\n",
    "      f'Idade: {idade}',\n",
    "      f'Salário: {salario}',\n",
    "      f'Sexo: {sexo}',\n",
    "      f'Estado Civil: {estado_civil}',\n",
    "      sep='\\n')"
   ]
  },
  {
   "cell_type": "markdown",
   "metadata": {},
   "source": [
    "Faça um programa que leia 5 números e informe o maior número."
   ]
  },
  {
   "cell_type": "code",
   "execution_count": 2,
   "metadata": {},
   "outputs": [
    {
     "name": "stdout",
     "output_type": "stream",
     "text": [
      "Digite o 1º numero: 5\n",
      "Digite o 2º numero: 43\n",
      "Digite o 3º numero: 5\n",
      "Digite o 4º numero: 2\n",
      "Digite o 5º numero: 1\n",
      "Maior número: 43.0\n"
     ]
    }
   ],
   "source": [
    "numeros = [float(input(f'Digite o {x+1}º numero: ')) for x in range(5)]\n",
    "\n",
    "print(f'Maior número: {max(numeros)}')"
   ]
  },
  {
   "cell_type": "markdown",
   "metadata": {},
   "source": [
    "Faça um programa que leia 5 números e informe a soma e a média dos números."
   ]
  },
  {
   "cell_type": "code",
   "execution_count": 4,
   "metadata": {},
   "outputs": [
    {
     "name": "stdout",
     "output_type": "stream",
     "text": [
      "Digite o 1º numero: 5\n",
      "Digite o 2º numero: 1\n",
      "Digite o 3º numero: 2\n",
      "Digite o 4º numero: 3\n",
      "Digite o 5º numero: 4\n",
      "Soma: 15.0\n",
      " Média: 3.0\n"
     ]
    }
   ],
   "source": [
    "numeros = [float(input(f'Digite o {x+1}º numero: ')) for x in range(5)]\n",
    "\n",
    "soma = sum(numeros)\n",
    "\n",
    "print(f'Soma: {soma} \\nMédia: {soma/len(numeros)}')"
   ]
  },
  {
   "cell_type": "markdown",
   "metadata": {},
   "source": [
    "Faça um programa que imprima na tela apenas os números ímpares entre 1 e 50"
   ]
  },
  {
   "cell_type": "code",
   "execution_count": 6,
   "metadata": {},
   "outputs": [
    {
     "name": "stdout",
     "output_type": "stream",
     "text": [
      "[1, 3, 5, 7, 9, 11, 13, 15, 17, 19, 21, 23, 25, 27, 29, 31, 33, 35, 37, 39, 41, 43, 45, 47, 49]\n"
     ]
    }
   ],
   "source": [
    "print([x for x in range(1, 51)][::2])"
   ]
  },
  {
   "cell_type": "markdown",
   "metadata": {},
   "source": [
    "Desenvolva um gerador de tabuada, capaz de gerar a tabuada de qualquer número inteiro entre 1 a 10. O usuário deve informar de qual numero ele deseja ver a tabuada. A saída deve ser conforme o exemplo abaixo:\n",
    "\n",
    "    Tabuada de 5:\n",
    "    5 X 1 = 5\n",
    "    5 X 2 = 10 \n",
    "    ...\n",
    "    5 X 10 = 5"
   ]
  },
  {
   "cell_type": "code",
   "execution_count": 28,
   "metadata": {},
   "outputs": [
    {
     "name": "stdout",
     "output_type": "stream",
     "text": [
      "Digite um numero: 5\n",
      "Tabuada de 5:\n",
      "5.0 X 2 = 5.0\n",
      "5.0 X 3 = 10.0\n",
      "5.0 X 4 = 15.0\n",
      "5.0 X 5 = 20.0\n",
      "5.0 X 6 = 25.0\n",
      "5.0 X 7 = 30.0\n",
      "5.0 X 8 = 35.0\n",
      "5.0 X 9 = 40.0\n",
      "5.0 X 10 = 45.0\n",
      "5.0 X 11 = 50.0\n"
     ]
    }
   ],
   "source": [
    "numero = float(input('Digite um numero: '))\n",
    "\n",
    "print('Tabuada de 5:')\n",
    "for i in range(1, 11):\n",
    "    print(f'{numero} X {i+1} = {i*numero}')"
   ]
  },
  {
   "cell_type": "markdown",
   "metadata": {},
   "source": [
    "A série de Fibonacci é formada pela seqüência 1,1,2,3,5,8,13,21,34,55,... Faça um programa capaz de gerar a série até o n−ésimo termo. "
   ]
  },
  {
   "cell_type": "code",
   "execution_count": 5,
   "metadata": {},
   "outputs": [
    {
     "name": "stdout",
     "output_type": "stream",
     "text": [
      "Digite até qual termoa série será gerada: 10\n",
      "[1, 1, 2, 3, 5, 8, 13, 21, 34, 55]\n"
     ]
    }
   ],
   "source": [
    "n = int(input('Digite até qual termoa série será gerada: '))\n",
    "\n",
    "a, b = 0, 1 \n",
    "fibonacci = []\n",
    "\n",
    "for x in range(n):\n",
    "    fibonacci.append(b)\n",
    "    a, b = b, a+b\n",
    "    \n",
    "print(fibonacci)"
   ]
  },
  {
   "cell_type": "markdown",
   "metadata": {},
   "source": [
    "Faça um programa que calcule o fatorial de um número inteiro fornecido pelo usuário. Ex.: 5!=5.4.3.2.1=120"
   ]
  },
  {
   "cell_type": "code",
   "execution_count": 32,
   "metadata": {},
   "outputs": [
    {
     "name": "stdout",
     "output_type": "stream",
     "text": [
      "Digite o numero para ver o fatorial: 5\n",
      "5! = 120\n"
     ]
    }
   ],
   "source": [
    "n = int(input('Digite o numero para ver o fatorial: '))\n",
    "\n",
    "x = n\n",
    "for i in range(1, x):\n",
    "    x = x * i\n",
    "    \n",
    "print(f'{n}! = {x}')"
   ]
  },
  {
   "cell_type": "markdown",
   "metadata": {},
   "source": [
    " O Sr. Manoel Joaquim possui uma grande loja de artigos de R$ 1,99, com cerca de 10 caixas. Para agilizar o cálculo de quanto cada cliente deve pagar ele desenvolveu um tabela que contém o número de itens que o cliente comprou e ao lado o valor da conta. Desta forma a atendente do caixa precisa apenas contar quantos itens o cliente está levando e olhar na tabela de preços. Você foi contratado para desenvolver o programa que monta esta tabela de preços, que conterá os preços de 1 até 50 produtos, conforme o exemplo abaixo:\n",
    " \n",
    "    Lojas Quase Dois - Tabela de preços\n",
    "    1 - R$ 1.99\n",
    "2 - R$ 3.98 \n",
    "    ... \n",
    "    50 - R$ 99.50"
   ]
  },
  {
   "cell_type": "code",
   "execution_count": 33,
   "metadata": {},
   "outputs": [
    {
     "name": "stdout",
     "output_type": "stream",
     "text": [
      "Lojas Quase Dois - Tabela de preços\n",
      "1 - R$ 1.99\n",
      "2 - R$ 3.98\n",
      "3 - R$ 5.97\n",
      "4 - R$ 7.96\n",
      "5 - R$ 9.95\n",
      "6 - R$ 11.94\n",
      "7 - R$ 13.93\n",
      "8 - R$ 15.92\n",
      "9 - R$ 17.91\n",
      "10 - R$ 19.90\n",
      "11 - R$ 21.89\n",
      "12 - R$ 23.88\n",
      "13 - R$ 25.87\n",
      "14 - R$ 27.86\n",
      "15 - R$ 29.85\n",
      "16 - R$ 31.84\n",
      "17 - R$ 33.83\n",
      "18 - R$ 35.82\n",
      "19 - R$ 37.81\n",
      "20 - R$ 39.80\n",
      "21 - R$ 41.79\n",
      "22 - R$ 43.78\n",
      "23 - R$ 45.77\n",
      "24 - R$ 47.76\n",
      "25 - R$ 49.75\n",
      "26 - R$ 51.74\n",
      "27 - R$ 53.73\n",
      "28 - R$ 55.72\n",
      "29 - R$ 57.71\n",
      "30 - R$ 59.70\n",
      "31 - R$ 61.69\n",
      "32 - R$ 63.68\n",
      "33 - R$ 65.67\n",
      "34 - R$ 67.66\n",
      "35 - R$ 69.65\n",
      "36 - R$ 71.64\n",
      "37 - R$ 73.63\n",
      "38 - R$ 75.62\n",
      "39 - R$ 77.61\n",
      "40 - R$ 79.60\n",
      "41 - R$ 81.59\n",
      "42 - R$ 83.58\n",
      "43 - R$ 85.57\n",
      "44 - R$ 87.56\n",
      "45 - R$ 89.55\n",
      "46 - R$ 91.54\n",
      "47 - R$ 93.53\n",
      "48 - R$ 95.52\n",
      "49 - R$ 97.51\n",
      "50 - R$ 99.50\n"
     ]
    }
   ],
   "source": [
    "print('Lojas Quase Dois - Tabela de preços')\n",
    "for i in range(1, 51):\n",
    "    preco = i * 1.99\n",
    "    print(f'{i} - R$ {preco:.2f}')"
   ]
  },
  {
   "cell_type": "markdown",
   "metadata": {},
   "source": [
    "O Sr. Manoel Joaquim acaba de adquirir uma panificadora e pretende implantar a metodologia da tabelinha, que já é um sucesso na sua loja de 1,99. Você foi contratado para desenvolver o programa que monta a tabela de preços de pães, de 1 até 50 pães, a partir do preço do pão informado pelo usuário, conforme o exemplo abaixo: \n",
    "\n",
    "        Preço do pão: R$ 0.18 \n",
    "    Panificadora Pão de Ontem - Tabela de preços \n",
    "    1 - R$ 0.18 \n",
    "        2 - R$ 0.36 \n",
    "    ... \n",
    "    50 - R$ 9.00 "
   ]
  },
  {
   "cell_type": "code",
   "execution_count": 34,
   "metadata": {},
   "outputs": [
    {
     "name": "stdout",
     "output_type": "stream",
     "text": [
      "Preço do pão: R$ 0.18\n",
      "Panificadora Pão de Ontem - Tabela de preços \n",
      "1 - R$ 0.18\n",
      "2 - R$ 0.36\n",
      "3 - R$ 0.54\n",
      "4 - R$ 0.72\n",
      "5 - R$ 0.90\n",
      "6 - R$ 1.08\n",
      "7 - R$ 1.26\n",
      "8 - R$ 1.44\n",
      "9 - R$ 1.62\n",
      "10 - R$ 1.80\n",
      "11 - R$ 1.98\n",
      "12 - R$ 2.16\n",
      "13 - R$ 2.34\n",
      "14 - R$ 2.52\n",
      "15 - R$ 2.70\n",
      "16 - R$ 2.88\n",
      "17 - R$ 3.06\n",
      "18 - R$ 3.24\n",
      "19 - R$ 3.42\n",
      "20 - R$ 3.60\n",
      "21 - R$ 3.78\n",
      "22 - R$ 3.96\n",
      "23 - R$ 4.14\n",
      "24 - R$ 4.32\n",
      "25 - R$ 4.50\n",
      "26 - R$ 4.68\n",
      "27 - R$ 4.86\n",
      "28 - R$ 5.04\n",
      "29 - R$ 5.22\n",
      "30 - R$ 5.40\n",
      "31 - R$ 5.58\n",
      "32 - R$ 5.76\n",
      "33 - R$ 5.94\n",
      "34 - R$ 6.12\n",
      "35 - R$ 6.30\n",
      "36 - R$ 6.48\n",
      "37 - R$ 6.66\n",
      "38 - R$ 6.84\n",
      "39 - R$ 7.02\n",
      "40 - R$ 7.20\n",
      "41 - R$ 7.38\n",
      "42 - R$ 7.56\n",
      "43 - R$ 7.74\n",
      "44 - R$ 7.92\n",
      "45 - R$ 8.10\n",
      "46 - R$ 8.28\n",
      "47 - R$ 8.46\n",
      "48 - R$ 8.64\n",
      "49 - R$ 8.82\n",
      "50 - R$ 9.00\n"
     ]
    }
   ],
   "source": [
    "preco_pao = float(input('Preço do pão: R$ '))\n",
    "\n",
    "print('Panificadora Pão de Ontem - Tabela de preços ')\n",
    "for i in range(1, 51):\n",
    "    preco = i * preco_pao\n",
    "    print(f'{i} - R$ {preco:.2f}')"
   ]
  },
  {
   "cell_type": "markdown",
   "metadata": {},
   "source": [
    "O Sr. Manoel Joaquim expandiu seus negócios para além dos negócios de 1,99 e agora possui uma loja de conveniências. Faça um programa que implemente uma caixa registradora rudimentar. O programa deverá receber um número desconhecido de valores referentes aos preços das mercadorias. Um valor zero deve ser informado pelo operador para indicar o final da compra. O programa deve então mostrar o total da compra e perguntar o valor em dinheiro que o cliente forneceu, para então calcular e mostrar o valor do troco. Após esta operação, o programa deverá voltar ao ponto inicial, para registrar a próxima compra. A saída deve ser conforme o exemplo abaixo: \n",
    "\n",
    "        Lojas Tabajara\n",
    "        Produto 1: R$ 2.20 \n",
    "    Produto 2: R$ 5.80 \n",
    "        Produto 3: R$ 0 \n",
    "    Total: R$ 9.00 \n",
    "        Dinheiro: R$ 20.00 \n",
    "    Troco: R$ 11.00 \n",
    "        ... "
   ]
  },
  {
   "cell_type": "code",
   "execution_count": 35,
   "metadata": {},
   "outputs": [
    {
     "name": "stdout",
     "output_type": "stream",
     "text": [
      "Lojas Tabajara\n",
      "Produto 1: R$ 2.20\n",
      "Produto 2: R$ 5.80\n",
      "Produto 3: R$ 0\n",
      "Total: R$ 8.00\n",
      "Dinheiro: R$ 20.00\n",
      "Troco: R$ 12.0\n",
      "...\n"
     ]
    }
   ],
   "source": [
    "print('Lojas Tabajara')\n",
    "\n",
    "valor = -1\n",
    "total = 0\n",
    "n = 0\n",
    "\n",
    "while valor != 0:\n",
    "    n += 1\n",
    "    valor = float(input(f'Produto {n}: R$ '))\n",
    "    total += valor\n",
    "\n",
    "                   \n",
    "print(f'Total: R$ {total:.2f}')\n",
    "\n",
    "dinheiro = float(input('Dinheiro: R$ '))\n",
    "print(f'Troco: R$ {dinheiro - total}\\n...')"
   ]
  },
  {
   "cell_type": "markdown",
   "metadata": {},
   "source": [
    "Foi feita uma estatística em cinco cidades brasileiras para coletar dados sobre acidentes de trânsito. Foram obtidos os seguintes dados: \n",
    "- Código da cidade; \n",
    "- Número de veículos de passeio (em 1999); \n",
    "- Número de acidentes de trânsito com vítimas (em 1999). Deseja-se saber: \n",
    "- Qual o maior e menor índice de acidentes de transito e a que cidade pertence; \n",
    "- Qual a média de veículos nas cinco cidades juntas; \n",
    "- Qual a média de acidentes de trânsito nas cidades com menos de 2.000 veículos de passeio."
   ]
  },
  {
   "cell_type": "code",
   "execution_count": null,
   "metadata": {},
   "outputs": [],
   "source": [
    "maior = menor = count = soma_veiculos = soma_acidentes = soma_2k = 0\n",
    "cid_maior = cid_menor = ''\n",
    "\n",
    "for c in range(1,6):\n",
    "    cidade      = input(\"\\nDigite o nome da cidade.....................: \")\n",
    "    codigo      = int(input(\"Digite o código da cidade...................: \"))\n",
    "    veiculos    = int(input(\"Numero de veiculos de passeio...............: \"))\n",
    "    acidentes   = int(input(\"Numero de acidentes de transito com vitimas.: \"))\n",
    "\n",
    "    soma_veiculos += veiculos\n",
    "    soma_acidentes += acidentes\n",
    "\n",
    "    if acidentes > maior:\n",
    "        maior = acidentes\n",
    "        cid_maior = cidade\n",
    "\n",
    "    if acidentes < menor or c == 1:\n",
    "        menor = acidentes\n",
    "        cid_menor = cidade\n",
    "\n",
    "    if veiculos < 2000:\n",
    "        soma_2k += acidentes\n",
    "        count += 1\n",
    "        \n",
    "media_nas_5_cidades = soma_veiculos / c\n",
    "media_2k = soma_2k / count\n",
    "\n",
    "\n",
    "print(\"\\n\"+\"-=\"*30 + '-')\n",
    "\n",
    "print(\n",
    "    f\"O menor indice de acidentes de transito {menor} cidade que pertence {cid_menor}\",\n",
    "    f\"O maior indice de acidenstes de transito {maior} cidade que pertence {cid_maior}\",\n",
    "    f\"Media de veiculos nas cincos cidades {media_nas_5_cidades}\", \n",
    "    f\"Media de acidentes de transitos nas cidades com menos de 2000 é {media_2k}\"\n",
    ") "
   ]
  },
  {
   "cell_type": "markdown",
   "metadata": {},
   "source": [
    "Faça um programa que receba o valor de uma dívida e mostre uma tabela com os seguintes dados: valor da dívida, valor dos juros, quantidade de parcelas e valor da parcela. \n",
    "\n",
    "    Os juros e a quantidade de parcelas seguem a tabela abaixo:\n",
    "    Quantidade de Parcelas  % de Juros sobre o valor inicial da dívida \n",
    "\n",
    "    1       0 \n",
    "    3       10 \n",
    "    6       15 \n",
    "    9       20 \n",
    "    12      25 \n",
    "\n",
    "    Exemplo de saída do programa: \n",
    "\n",
    "    Valor da Dívida Valor dos Juros Quantidade de Parcelas  Valor da Parcela \n",
    "    R$ 1.000,00     0               1                       R$  1.000,00  \n",
    "    R$ 1.100,00     100             3                       R$    366,00 \n",
    "    R$ 1.150,00     150             6                       R$    191,67 "
   ]
  },
  {
   "cell_type": "code",
   "execution_count": 18,
   "metadata": {},
   "outputs": [
    {
     "name": "stdout",
     "output_type": "stream",
     "text": [
      "Digite o valor da divida: 1000\n",
      "Valor da Dívida\tValor dos Juros\tQuantidade de Parcelas\tValor da Parcela\n",
      "R$ 1000,00\t0\t\t1\t\t\tR$ 1000,00\n",
      "R$ 1100,00\t10\t\t3\t\t\tR$ 366,67\n",
      "R$ 1150,00\t15\t\t6\t\t\tR$ 191,67\n",
      "R$ 1200,00\t20\t\t9\t\t\tR$ 133,33\n",
      "R$ 1250,00\t25\t\t12\t\t\tR$ 104,17\n"
     ]
    }
   ],
   "source": [
    "import locale\n",
    "locale.setlocale(locale.LC_ALL, 'pt_BR.UTF-8')\n",
    "\n",
    "valor_divida = float(input(\"Digite o valor da divida: \"))\n",
    "\n",
    "dados = [\n",
    "    [1, 0],\n",
    "    [3, 10],\n",
    "    [6, 15],\n",
    "    [9, 20],\n",
    "    [12, 25]\n",
    "]\n",
    "\n",
    "print('Valor da Dívida', 'Valor dos Juros', 'Quantidade de Parcelas', 'Valor da Parcela', sep=\"\\t\")\n",
    "\n",
    "for dado in dados:\n",
    "    valor_com_juros = valor_divida * (1+dado[1]/100)\n",
    "    print(f'{locale.currency(valor_com_juros)}\\t{dado[1]}\\t\\t{dado[0]}\\t\\t\\t{locale.currency(valor_com_juros/dado[0])}')"
   ]
  },
  {
   "cell_type": "markdown",
   "metadata": {},
   "source": [
    "Faça um programa que mostre os n termos da Série a seguir:\n",
    "\n",
    "    S = 1/1 + 2/3 + 3/5 + 4/7 + 5/9 + ... + n/m.  \n",
    "    \n",
    "Imprima no final a soma da série. "
   ]
  },
  {
   "cell_type": "code",
   "execution_count": 41,
   "metadata": {},
   "outputs": [
    {
     "name": "stdout",
     "output_type": "stream",
     "text": [
      "Digite até onde a série irá: 5\n",
      "S = 1/1 + 2/3 + 3/5 + 4/7 + 5/9 \n",
      "Soma = 3.393650793650793\n"
     ]
    }
   ],
   "source": [
    "n = int(input(\"Digite até onde a série irá: \"))\n",
    "\n",
    "b = 1\n",
    "s = ''\n",
    "soma = 0\n",
    "\n",
    "for a in range(1, n + 1):\n",
    "    s += f'{a}/{b}'\n",
    "    if a != n:\n",
    "        s += ' + '\n",
    "    soma += a/b\n",
    "    a += 1 \n",
    "    b += 2\n",
    "    \n",
    "print(f'S = {s} \\nSoma = {soma}')"
   ]
  },
  {
   "cell_type": "code",
   "execution_count": null,
   "metadata": {},
   "outputs": [],
   "source": []
  }
 ],
 "metadata": {
  "kernelspec": {
   "display_name": "Python 3",
   "language": "python",
   "name": "python3"
  },
  "language_info": {
   "codemirror_mode": {
    "name": "ipython",
    "version": 3
   },
   "file_extension": ".py",
   "mimetype": "text/x-python",
   "name": "python",
   "nbconvert_exporter": "python",
   "pygments_lexer": "ipython3",
   "version": "3.7.1"
  }
 },
 "nbformat": 4,
 "nbformat_minor": 2
}
