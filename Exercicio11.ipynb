{
 "cells": [
  {
   "cell_type": "markdown",
   "metadata": {},
   "source": [
    "## Uriel Henrique Marques Farias Mishima\n",
    "\n",
    "## RA: 81717300"
   ]
  },
  {
   "cell_type": "markdown",
   "metadata": {},
   "source": [
    "Use map() para criar uma função que encontra o comprimento de cada palavra em uma frase (quebrada por espaços) e retorna os valores em um lista. A função deve ter como entrada uma string e como saída uma lista de inteiros."
   ]
  },
  {
   "cell_type": "code",
   "execution_count": 1,
   "metadata": {},
   "outputs": [],
   "source": [
    "word_lengths = lambda frase: list(map(len, frase.split()))\n",
    "\n",
    "assert(word_lengths('How long are the words in this phrase') == [3, 4, 3, 3, 5, 2, 4, 6])"
   ]
  },
  {
   "cell_type": "markdown",
   "metadata": {},
   "source": [
    "Use reduce() para pegar uma lista de inteiros e retornar o número que corresponde à combinação destes dígitos. Por exemplo, [1,2,3] corresponde a cento e vinte e três."
   ]
  },
  {
   "cell_type": "code",
   "execution_count": 2,
   "metadata": {},
   "outputs": [],
   "source": [
    "from functools import reduce\n",
    "\n",
    "digits_to_num = lambda digitos: int(reduce(lambda a, b: str(a) + str(b), digitos))\n",
    "\n",
    "assert(digits_to_num([3,4,3,2,1]) == 34321)"
   ]
  },
  {
   "cell_type": "markdown",
   "metadata": {},
   "source": [
    "Use filter() para retornar as palavras de uma lista de palavras que comecem com uma determinada letra. "
   ]
  },
  {
   "cell_type": "code",
   "execution_count": 3,
   "metadata": {},
   "outputs": [],
   "source": [
    "l = ['hello','are','cat','dog','ham','hi','go','to','heart']\n",
    "\n",
    "filter_words = lambda palavras, letra: list(filter(lambda palavra: palavra.startswith(letra), palavras))\n",
    "\n",
    "assert(filter_words(l,'h') == ['hello', 'ham', 'hi', 'heart'] )"
   ]
  },
  {
   "cell_type": "markdown",
   "metadata": {},
   "source": [
    "Use zip() e uma list comprehension para retornar uma lista do mesmo tamanho onde cada valor é a concatenação de duas strings de L1 e L2 com o conector também passado como argumento entre elas. "
   ]
  },
  {
   "cell_type": "code",
   "execution_count": 4,
   "metadata": {},
   "outputs": [],
   "source": [
    "concatenate = lambda L1, L2, conector: [str(conector).join(x) for x in zip(L1, L2)]\n",
    "\n",
    "assert(concatenate(['A','B'],['a','b'],'-') == ['A-a', 'B-b'] )"
   ]
  },
  {
   "cell_type": "markdown",
   "metadata": {},
   "source": [
    "Use enumerate() e outras funções para retornar um dicionário que tem os valores de uma lista como chaves e seus índices como valor. Assuma que o valor irá aparecer uma única vez na lista. "
   ]
  },
  {
   "cell_type": "code",
   "execution_count": 5,
   "metadata": {},
   "outputs": [],
   "source": [
    "d_list = lambda lista: dict(map(reversed, dict((enumerate(lista))).items()))\n",
    "\n",
    "assert(d_list(['a','b','c']) ==  {'a': 0, 'b': 1, 'c': 2})"
   ]
  },
  {
   "cell_type": "markdown",
   "metadata": {},
   "source": [
    "Use enumerate() e outras funções para retornar a contagem do número de itens de uma lista cujo valor seja igual ao seu índice.    "
   ]
  },
  {
   "cell_type": "code",
   "execution_count": 6,
   "metadata": {},
   "outputs": [],
   "source": [
    "count_match_index = lambda lista: len(list(filter(lambda x: x[0] == x[1], enumerate(lista))))\n",
    "\n",
    "assert(count_match_index([0,2,2,1,5,5,6,10]) == 4)"
   ]
  },
  {
   "cell_type": "code",
   "execution_count": null,
   "metadata": {},
   "outputs": [],
   "source": []
  }
 ],
 "metadata": {
  "kernelspec": {
   "display_name": "Python 3",
   "language": "python",
   "name": "python3"
  },
  "language_info": {
   "codemirror_mode": {
    "name": "ipython",
    "version": 3
   },
   "file_extension": ".py",
   "mimetype": "text/x-python",
   "name": "python",
   "nbconvert_exporter": "python",
   "pygments_lexer": "ipython3",
   "version": "3.7.1"
  }
 },
 "nbformat": 4,
 "nbformat_minor": 2
}
