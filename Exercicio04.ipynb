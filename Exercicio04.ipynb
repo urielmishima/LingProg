{
 "cells": [
  {
   "cell_type": "markdown",
   "metadata": {},
   "source": [
    "## Uriel Henrique Marques Farias Mishima\n",
    "\n",
    "## RA: 81717300"
   ]
  },
  {
   "cell_type": "markdown",
   "metadata": {},
   "source": [
    "Menor de dois pares: Escreva uma função que retorne o menor de dois números\n",
    "dados se ambos os números forem pares, mas retorna o maior se um dos dois for\n",
    "ímpar. Exemplo:\n",
    "\n",
    "    menor_de_dois_pares(2,4) --> 2\n",
    "    menor_de_dois_pares (2,5) --> 5"
   ]
  },
  {
   "cell_type": "code",
   "execution_count": 7,
   "metadata": {},
   "outputs": [
    {
     "name": "stdout",
     "output_type": "stream",
     "text": [
      "menor_de_dois_pares(2,4) --> 2\n",
      "menor_de_dois_pares (2,5) --> 5\n"
     ]
    }
   ],
   "source": [
    "def menor_de_dois_pares(n1, n2):\n",
    "    return min([n1,n2]) if n1 % 2 == 0 and n2 % 2 == 0 else max([n1,n2])\n",
    "        \n",
    "print(f'menor_de_dois_pares(2,4) --> {menor_de_dois_pares(2,4)}')\n",
    "print(f'menor_de_dois_pares (2,5) --> {menor_de_dois_pares (2,5)}')"
   ]
  },
  {
   "cell_type": "markdown",
   "metadata": {},
   "source": [
    "Mesma letra: Escreva uma função que receba uma string com duas palavras e\n",
    "retorne True se ambas palavras começarem com a mesma letra. Exemplo:\n",
    "\n",
    "    mesma_letra('Cão covarde') -> True\n",
    "    mesma_letra('Vira Lata') -> False"
   ]
  },
  {
   "cell_type": "code",
   "execution_count": 72,
   "metadata": {},
   "outputs": [
    {
     "name": "stdout",
     "output_type": "stream",
     "text": [
      "mesma_letra('Cão covarde') --> True\n",
      "mesma_letra('Vira Lata') --> False\n"
     ]
    }
   ],
   "source": [
    "def mesma_letra(duas_palavras):\n",
    "    p1, p2 = duas_palavras.upper().split()\n",
    "    return p1[0] == p2[0]\n",
    "\n",
    "print(f\"mesma_letra('Cão covarde') --> {mesma_letra('Cão covarde')}\")\n",
    "print(f\"mesma_letra('Vira Lata') --> {mesma_letra('Vira Lata')}\")"
   ]
  },
  {
   "cell_type": "markdown",
   "metadata": {},
   "source": [
    "Mestre Yoda: Dada uma sentença, a função deve retornar a sentença com as\n",
    "palavras na ordem reversa. Exemplo:\n",
    "\n",
    "    mestre_yoda('Eu estou em casa') --> 'casa em estou Eu'\n",
    "    mestre_yoda('Estamos prontos') --> 'prontos Estamos'\n"
   ]
  },
  {
   "cell_type": "code",
   "execution_count": 69,
   "metadata": {},
   "outputs": [
    {
     "name": "stdout",
     "output_type": "stream",
     "text": [
      "mestre_yoda('Eu estou em casa') --> 'casa em estou Eu'\n",
      "mestre_yoda('Estamos prontos') --> 'prontos Estamos'\n"
     ]
    }
   ],
   "source": [
    "def mestre_yoda(sentenca):\n",
    "    sentenca_quebrada = sentenca.split()\n",
    "    sentenca_inversa = ' '\n",
    "    return f\"'{sentenca_inversa.join(sentenca_quebrada[::-1])}'\"\n",
    "\n",
    "print(f\"mestre_yoda('Eu estou em casa') --> {mestre_yoda('Eu estou em casa')}\")\n",
    "print(f\"mestre_yoda('Estamos prontos') --> {mestre_yoda('Estamos prontos')}\")"
   ]
  },
  {
   "cell_type": "markdown",
   "metadata": {},
   "source": [
    "Tem 33: Faça uma função que retorne True se, dada uma lista de inteiros, houver\n",
    "em alguma posição da lista um 3 do lado de outro 3. Exemplo:\n",
    "\n",
    "    tem_33([1,3,3]) --> True\n",
    "    tem_33([1,3,1,3]) --> False\n",
    "    tem_33([3,1,3]) --> False"
   ]
  },
  {
   "cell_type": "code",
   "execution_count": 52,
   "metadata": {},
   "outputs": [
    {
     "name": "stdout",
     "output_type": "stream",
     "text": [
      "tem_33([1,3,3]) --> True\n",
      "tem_33([1,3,1,3]) --> False\n",
      "tem_33([3,1,3]) --> False\n"
     ]
    }
   ],
   "source": [
    "def tem_33 (lista):\n",
    "    string = ''.join(str(x) for x in lista)\n",
    "    return '33' in string\n",
    "\n",
    "print(f\"tem_33([1,3,3]) --> {tem_33([1,3,3])}\")\n",
    "print(f\"tem_33([1,3,1,3]) --> {tem_33([1,3,1,3])}\")\n",
    "print(f\"tem_33([3,1,3]) --> {tem_33([3,1,3])}\")"
   ]
  },
  {
   "cell_type": "markdown",
   "metadata": {},
   "source": [
    " Blackjack: Faça uma função que receba 3 inteiros entre 1 e 11. Se a soma deles for\n",
    "menor que 21, retorne o valor da soma. Se for mair do que 21 e houver um 11, \n",
    "subtraia 10 da soma antes de apresentar o resultado. Se o valor da soma passar de\n",
    "21, retorne ‘ESTOUROU’. Exemplo:\n",
    "\n",
    "    blackjack(5,6,7) --> 18\n",
    "    blackjack(9,9,9) --> 'ESTOUROU'\n",
    "    blackjack(9,9,11) --> 19"
   ]
  },
  {
   "cell_type": "code",
   "execution_count": 67,
   "metadata": {},
   "outputs": [
    {
     "name": "stdout",
     "output_type": "stream",
     "text": [
      "blackjack(5,6,7) --> 18\n",
      "blackjack(9,9,9) --> 'ESTOUROU'\n",
      "blackjack(9,9,11) --> 19\n"
     ]
    }
   ],
   "source": [
    "def blackjack(n1, n2, n3):\n",
    "    lista = [n1, n2, n3]\n",
    "    soma = sum(lista)\n",
    "    if soma < 21:\n",
    "        return soma\n",
    "    else:\n",
    "        if 11 in lista:\n",
    "            return soma - 10 \n",
    "        else:\n",
    "            return \"'ESTOUROU'\"\n",
    "\n",
    "print(f\"blackjack(5,6,7) --> {blackjack(5,6,7)}\")\n",
    "print(f\"blackjack(9,9,9) --> {blackjack(9,9,9)}\")\n",
    "print(f\"blackjack(9,9,11) --> {blackjack(9,9,11)}\")"
   ]
  },
  {
   "cell_type": "markdown",
   "metadata": {},
   "source": [
    "Espião: Escreva uma função que receba uma lista de\n",
    "inteiros e retorne True se contém um 007 em ordem, mesmo\n",
    "que não contínuo. Exemplo:\n",
    "    \n",
    "    espiao([1,2,4,0,0,7,5]) --> True\n",
    "    espiao([1,0,2,4,0,5,7]) --> True\n",
    "    espiao([1,7,2,4,0,5,0]) --> False"
   ]
  },
  {
   "cell_type": "code",
   "execution_count": 73,
   "metadata": {},
   "outputs": [
    {
     "name": "stdout",
     "output_type": "stream",
     "text": [
      "espiao([1,2,4,0,0,7,5]) --> True\n",
      "espiao([1,0,2,4,0,5,7]) --> True\n",
      "espiao([1,7,2,4,0,5,0]) --> False\n"
     ]
    }
   ],
   "source": [
    "def espiao(lista):\n",
    "    for x in range(0, len(lista)):\n",
    "        if lista[x] == 0 and x + 1 < len(lista):\n",
    "            y = x + 1\n",
    "            for y in range(y, len(lista)):\n",
    "                if lista[y] == 0 and y + 1 < len(lista):\n",
    "                    z = y + 1\n",
    "                    for z in range(z, len(lista)):\n",
    "                        if lista[z] == 7:\n",
    "                            return True\n",
    "    return False\n",
    "\n",
    "print(f\"espiao([1,2,4,0,0,7,5]) --> {espiao([1,2,4,0,0,7,5])}\")\n",
    "print(f\"espiao([1,0,2,4,0,5,7]) --> {espiao([1,0,2,4,0,5,7])}\")\n",
    "print(f\"espiao([1,7,2,4,0,5,0]) --> {espiao([1,7,2,4,0,5,0])}\")"
   ]
  },
  {
   "cell_type": "code",
   "execution_count": null,
   "metadata": {},
   "outputs": [],
   "source": []
  }
 ],
 "metadata": {
  "kernelspec": {
   "display_name": "Python 3",
   "language": "python",
   "name": "python3"
  },
  "language_info": {
   "codemirror_mode": {
    "name": "ipython",
    "version": 3
   },
   "file_extension": ".py",
   "mimetype": "text/x-python",
   "name": "python",
   "nbconvert_exporter": "python",
   "pygments_lexer": "ipython3",
   "version": "3.7.1"
  }
 },
 "nbformat": 4,
 "nbformat_minor": 2
}
