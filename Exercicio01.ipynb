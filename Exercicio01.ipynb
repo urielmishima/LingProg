{
 "cells": [
  {
   "cell_type": "markdown",
   "metadata": {},
   "source": [
    "### Uriel Henrique Marques Farias Mishima\n",
    "\n",
    "### RA: 81717300"
   ]
  },
  {
   "cell_type": "markdown",
   "metadata": {},
   "source": [
    "Faça um Programa que peça o raio de um círculo, calcule e mostre sua área"
   ]
  },
  {
   "cell_type": "code",
   "execution_count": 1,
   "metadata": {},
   "outputs": [
    {
     "name": "stdout",
     "output_type": "stream",
     "text": [
      "Digite o raio5\n",
      "A área do círculo de raio 5 é 7.9e+01\n"
     ]
    }
   ],
   "source": [
    "import math\n",
    "raio = int(input (\"Digite o raio\"))\n",
    "#type (raio)\n",
    "area = math.pi * (raio ** 2)\n",
    "print (f'A área do círculo de raio {raio} é {area:{5}.{2}}')"
   ]
  },
  {
   "cell_type": "markdown",
   "metadata": {},
   "source": [
    "Faça um Programa que calcule a área de um quadrado, em seguida mostre o dobro\n",
    "desta área para o usuário."
   ]
  },
  {
   "cell_type": "code",
   "execution_count": 2,
   "metadata": {},
   "outputs": [
    {
     "name": "stdout",
     "output_type": "stream",
     "text": [
      "Digite o tamanho de um lado do quadrado 5\n",
      "O quadrado tem dois lados de 5.00, uma area de 25.00 e o dobro da area do quadrado é 50.00\n"
     ]
    }
   ],
   "source": [
    "lado = float(input(\"Digite o tamanho de um lado do quadrado: \"))\n",
    "\n",
    "area = lado * lado\n",
    "\n",
    "print('O quadrado tem dois lados de %.2f, uma area de %.2f e o dobro da area do quadrado é %.2f' % (lado, area, area*2))"
   ]
  },
  {
   "cell_type": "markdown",
   "metadata": {},
   "source": [
    "Faça um Programa que pergunte quanto você ganha por hora e o número de horas\n",
    "trabalhadas no mês. Calcule e mostre o total do seu salário no referido mês."
   ]
  },
  {
   "cell_type": "code",
   "execution_count": 28,
   "metadata": {},
   "outputs": [
    {
     "name": "stdout",
     "output_type": "stream",
     "text": [
      "Digite o valor da hora3\n",
      "Digite a quantidade de horas trabalhadas5\n",
      "Com valor de hora 3.00 e tendo trabalhado 5.00 horas, você ganhará 15.00\n",
      "\n"
     ]
    }
   ],
   "source": [
    "valor_hora = float (input (\"Digite o valor da hora\"))\n",
    "numero_horas = float (input (\"Digite a quantidade de horas trabalhadas\"))\n",
    "total = valor_hora * numero_horas\n",
    "print ('Com valor de hora %.2f e tendo trabalhado %.2f horas, você ganhará %.2f\\n' % (valor_hora, numero_horas, total))"
   ]
  },
  {
   "cell_type": "markdown",
   "metadata": {},
   "source": [
    "Faça um Programa que peça a temperatura em graus Farenheit, transforme e\n",
    "mostre a temperatura em graus Celsius. C = (5 * (F-32) / 9)."
   ]
  },
  {
   "cell_type": "code",
   "execution_count": 6,
   "metadata": {},
   "outputs": [
    {
     "name": "stdout",
     "output_type": "stream",
     "text": [
      "Digite a temperatura em graus Farenheit 32\n",
      "A temperaura de 32.0°F em Celsius é 0.0°C\n"
     ]
    }
   ],
   "source": [
    "farenheit = float(input(\"Digite a temperatura em graus Farenheit: \"))\n",
    "celsius = (5 * (farenheit-32) / 9)\n",
    "\n",
    "print('A temperaura de %.1f°F em Celsius é %.1f°C' % (farenheit, celsius))"
   ]
  },
  {
   "cell_type": "markdown",
   "metadata": {},
   "source": [
    "Faça um Programa que peça a temperatura em graus Celsius, transforme e mostre\n",
    "em graus Farenheit."
   ]
  },
  {
   "cell_type": "code",
   "execution_count": 7,
   "metadata": {},
   "outputs": [
    {
     "name": "stdout",
     "output_type": "stream",
     "text": [
      "Digite uma temperatura em graus Celsius 0\n",
      "A temperatura de 0.0°C em Farenheit é 32.0°F\n"
     ]
    }
   ],
   "source": [
    "celsius = float(input(\"Digite uma temperatura em graus Celsius: \"))\n",
    "farenheit = celsius * 5/9 + 32\n",
    "\n",
    "print('A temperatura de %.1f°C em Farenheit é %.1f°F' % (celsius, farenheit))"
   ]
  },
  {
   "cell_type": "markdown",
   "metadata": {},
   "source": [
    "Faça um Programa que peça 2 números inteiros e um número real. Calcule e\n",
    "mostre:\n",
    "- o produto do dobro do primeiro com metade do segundo .\n",
    "- a soma do triplo do primeiro com o terceiro.\n",
    "- o terceiro elevado ao cubo."
   ]
  },
  {
   "cell_type": "code",
   "execution_count": 22,
   "metadata": {},
   "outputs": [
    {
     "name": "stdout",
     "output_type": "stream",
     "text": [
      "Digite um número inteiro 5\n",
      "Digite outro número inteiro 5\n",
      "Agora digite um número real 3.5\n",
      "O números inteiros são 5 e 5 e o número real é 3.50\n",
      "O produto do dobro do primeiro com metade do segundo: 25.00\n",
      "A soma do triplo do primeiro com o terceiro: 18.50\n",
      "O terceiro elevado ao cubo: 42.88\n"
     ]
    }
   ],
   "source": [
    "inteiro1 = int(input(\"Digite um número inteiro: \"))\n",
    "inteiro2 = int(input(\"Digite outro número inteiro: \"))\n",
    "\n",
    "real = float(input(\"Agora digite um número real \"))\n",
    "\n",
    "print(f'O números inteiros são {inteiro1} e {inteiro2} e o número real é {real:.2f}',\n",
    "      f'O produto do dobro do primeiro com metade do segundo: {2 * inteiro1 * inteiro2 / 2:.2f}',\n",
    "      f'A soma do triplo do primeiro com o terceiro: {3 * inteiro1 + real:.2f}',\n",
    "      f'O terceiro elevado ao cubo: {real ** 3:.2f}',\n",
    "      sep=\"\\n\")"
   ]
  },
  {
   "cell_type": "markdown",
   "metadata": {},
   "source": [
    "João Papo-de-Pescador, homem de bem, comprou um microcomputador para\n",
    "controlar o rendimento diário de seu trabalho. Toda vez que ele traz um peso de\n",
    "peixes maior que o estabelecido pelo regulamento de pesca do estado de São Paulo\n",
    "(50 quilos) deve pagar uma multa de R$ 4,00 por quilo excedente. João precisa que\n",
    "você faça um programa que leia a variável peso (peso de peixes) e verifique se há\n",
    "excesso. Se houver, gravar na variável excesso e na variável multa o valor da multa\n",
    "que João deverá pagar. Caso contrário mostrar tais variáveis com o conteúdo ZERO."
   ]
  },
  {
   "cell_type": "code",
   "execution_count": 9,
   "metadata": {},
   "outputs": [
    {
     "name": "stdout",
     "output_type": "stream",
     "text": [
      "excesso: 1.6700000000000017; multa:6.680000000000007 \n",
      "excesso: 1.67; multa:6.68 \n"
     ]
    }
   ],
   "source": [
    "#peso = float (input (\"Digite o peso de peixes\"))\n",
    "peso = 51.67\n",
    "excesso = peso - 50\n",
    "if excesso < 0:\n",
    "    excesso = 0\n",
    "multa = excesso * 4\n",
    "print(f'excesso: {excesso}; multa:{multa} ')\n",
    "print(f'excesso: {excesso:.2f}; multa:{multa:.2f} ')"
   ]
  },
  {
   "cell_type": "markdown",
   "metadata": {},
   "source": [
    "Faça um Programa que pergunte quanto você ganha por hora e o número de horas\n",
    "trabalhadas no mês. Calcule e mostre o total do seu salário no referido mês,\n",
    "sabendo-se que são descontados 11% para o Imposto de Renda, 8% para o INSS e 5%\n",
    "para o sindicato, faça um programa que nos dê:\n",
    "- salário bruto.\n",
    "- quanto pagou ao INSS.\n",
    "- quanto pagou ao sindicato.\n",
    "- o salário líquido.\n",
    "- calcule os descontos e o salário líquido, conforme a tabela abaixo:\n",
    " + Salário Bruto : R$\n",
    " - IR (11%) : R$\n",
    " - INSS (8%) : R$\n",
    " - Sindicato ( 5%) : R$\n",
    " = Salário Liquido : R$\n",
    "Obs.: Salário Bruto - Descontos = Salário Líquido"
   ]
  },
  {
   "cell_type": "code",
   "execution_count": 7,
   "metadata": {},
   "outputs": [
    {
     "name": "stdout",
     "output_type": "stream",
     "text": [
      "Digite o valor da hora11.36\n",
      "Digite a quantidade de horas trabalhadas132\n",
      "+ Salário Bruto: R$1499.52\n",
      "- IR (11%): R$164.95\n",
      "- INSS (8): R$119.96\n",
      "- Sindicato (5%): R$74.98\n",
      "= Salário Liquido: R$1139.64\n",
      "------------------------------------------\n",
      "Descontos: R$359.88\n"
     ]
    }
   ],
   "source": [
    "valor_hora = float (input (\"Digite o valor da hora: \"))\n",
    "numero_horas = float (input (\"Digite a quantidade de horas trabalhadas: \"))\n",
    "\n",
    "salario_bruto = valor_hora * numero_horas\n",
    "ir = salario_bruto * 0.11\n",
    "pago_inss = salario_bruto * 0.08\n",
    "pago_sindicato = salario_bruto * 0.05\n",
    "descontos = pago_inss + pago_sindicato + ir\n",
    "salario_liquido = salario_bruto - descontos\n",
    "\n",
    "print(f'+ Salário Bruto: R${salario_bruto:.2f}',\n",
    "      f'- IR (11%): R${ir:.2f}',\n",
    "      f'- INSS (8): R${pago_inss:.2f}',\n",
    "      f'- Sindicato (5%): R${pago_sindicato:.2f}',\n",
    "      f'= Salário Liquido: R${salario_liquido:.2f}',\n",
    "      f'------------------------------------------',\n",
    "      f'Descontos: R${descontos:.2f}',\n",
    "      sep='\\n')"
   ]
  },
  {
   "cell_type": "markdown",
   "metadata": {},
   "source": [
    "Faça um programa que leia 2 strings e informe o conteúdo delas seguido do seu\n",
    "comprimento. Informe também se as duas strings possuem o mesmo comprimento e\n",
    "são iguais ou diferentes no conteúdo.\n",
    "Exemplo:\n",
    "String 1: Brasil Hexa 2018\n",
    "String 2: Brasil! Hexa 2018!\n",
    "Tamanho de \"Brasil Hexa 2018\": 16 caracteres\n",
    "Tamanho de \"Brasil! Hexa 2018!\": 18 caracteres\n",
    "As duas strings são de tamanhos diferentes.\n",
    "As duas strings possuem conteúdo diferente."
   ]
  },
  {
   "cell_type": "code",
   "execution_count": 16,
   "metadata": {},
   "outputs": [
    {
     "name": "stdout",
     "output_type": "stream",
     "text": [
      "Digite a primeira string Brasil Hexa 2018\n",
      "Digite a segunda string Brasil! Hexa 2018!\n",
      "String1: Brasil Hexa 2018\n",
      "String2: Brasil! Hexa 2018!\n",
      "Tamanho de \"Brasil Hexa 2018\": 16 caracteres\n",
      "Tamanho de \"Brasil! Hexa 2018!\": 18 caracteres\n",
      "As duas strings são de tamanhos diferentes.\n",
      "As duas strings possuem conteúdo diferente.\n"
     ]
    }
   ],
   "source": [
    "string1 = input(\"Digite a primeira string: \")\n",
    "string2 = input(\"Digite a segunda string: \")\n",
    "      \n",
    "print(f'String1: {string1}\\n'\n",
    "      f'String2: {string2}')\n",
    "    \n",
    "tamanho_string1 = len(string1)\n",
    "tamanho_string2 = len(string2)\n",
    "      \n",
    "print(f'Tamanho de \"{string1}\": {tamanho_string1} caracteres\\n'\n",
    "      f'Tamanho de \"{string2}\": {tamanho_string2} caracteres')\n",
    "\n",
    "if tamanho_string1 == tamanho_string2:\n",
    "    print('As duas strings são de tamanhos iguais.')\n",
    "    if string1 == string2:\n",
    "        print('As duas strings possuem conteúdo iguais.')\n",
    "    else:\n",
    "        print('As duas strings possuem conteúdo diferente.')\n",
    "else:\n",
    "    print(f'As duas strings são de tamanhos diferentes.\\n'\n",
    "          f'As duas strings possuem conteúdo diferente.')          "
   ]
  },
  {
   "cell_type": "markdown",
   "metadata": {},
   "source": [
    "Faça um programa que permita ao usuário digitar o seu nome e em seguida\n",
    "mostre o nome do usuário de trás para frente utilizando somente letras maiúsculas.\n",
    "Dica: lembre−se que ao informar o nome o usuário pode digitar letras maiúsculas ou\n",
    "minúsculas. Observação: não use loops"
   ]
  },
  {
   "cell_type": "code",
   "execution_count": 17,
   "metadata": {},
   "outputs": [
    {
     "name": "stdout",
     "output_type": "stream",
     "text": [
      "Digite o seu nomeUriel\n",
      "LEIRU\n"
     ]
    }
   ],
   "source": [
    "nome = input(\"Digite o seu nome: \")\n",
    "\n",
    "print(nome[::-1].upper())"
   ]
  },
  {
   "cell_type": "markdown",
   "metadata": {},
   "source": [
    "Faça um programa que solicite a data de nascimento (dd/mm/aaaa) do usuário e\n",
    "imprima a data com o nome do mês por extenso.\n",
    "Data de Nascimento: 29/10/1973\n",
    "Você nasceu em 29 de Outubro de 1973.\n",
    "Obs.: Não use desvio condicional nem loops."
   ]
  },
  {
   "cell_type": "code",
   "execution_count": 18,
   "metadata": {},
   "outputs": [
    {
     "name": "stdout",
     "output_type": "stream",
     "text": [
      "Digite uma data (dd/mm/aaa): 22/07/1999\n",
      "Você nasceu em 22 de julho de 1999\n"
     ]
    }
   ],
   "source": [
    "dia, mes, ano = input('Digite uma data (dd/mm/aaa): ').split('/')\n",
    "\n",
    "meses = ['janeiro', 'fevereiro', 'março', 'abril', 'maio', 'junho',\n",
    "         'julho', 'agosto', 'setembro', 'outubro', 'novembro', 'dezembro']\n",
    "\n",
    "print(f'Você nasceu em {dia} de {meses[int(mes) - 1]} de {ano}')"
   ]
  },
  {
   "cell_type": "markdown",
   "metadata": {},
   "source": [
    "Leet é uma forma de se escrever o alfabeto latino usando outros símbolos em\n",
    "lugar das letras, como números por exemplo. A própria palavra leet admite muitas\n",
    "variações, como l33t ou 1337. O uso do leet reflete uma subcultura relacionada ao\n",
    "mundo dos jogos de computador e internet, sendo muito usada para confundir os\n",
    "iniciantes e afirmar-se como parte de um grupo. Pesquise sobre as principais formas\n",
    "de traduzir as letras. Depois, faça um programa que peça uma texto e transforme-o\n",
    "para a grafia leet speak.\n",
    "Desafio: não use loops nem desvios condicionais."
   ]
  },
  {
   "cell_type": "code",
   "execution_count": 20,
   "metadata": {},
   "outputs": [
    {
     "name": "stdout",
     "output_type": "stream",
     "text": [
      "Digita alguma coisa5\n"
     ]
    }
   ],
   "source": []
  },
  {
   "cell_type": "code",
   "execution_count": null,
   "metadata": {},
   "outputs": [],
   "source": []
  }
 ],
 "metadata": {
  "kernelspec": {
   "display_name": "Python 3",
   "language": "python",
   "name": "python3"
  },
  "language_info": {
   "codemirror_mode": {
    "name": "ipython",
    "version": 3
   },
   "file_extension": ".py",
   "mimetype": "text/x-python",
   "name": "python",
   "nbconvert_exporter": "python",
   "pygments_lexer": "ipython3",
   "version": "3.7.0"
  }
 },
 "nbformat": 4,
 "nbformat_minor": 2
}
