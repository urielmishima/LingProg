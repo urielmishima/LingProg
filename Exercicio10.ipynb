{
 "cells": [
  {
   "cell_type": "markdown",
   "metadata": {},
   "source": [
    "## Uriel Henrique Marques Farias Mishima\n",
    "\n",
    "## RA: 81717300"
   ]
  },
  {
   "cell_type": "code",
   "execution_count": 1,
   "metadata": {},
   "outputs": [],
   "source": [
    "def maybe(fnc):\n",
    "    def inner(*args):\n",
    "        for a in args:\n",
    "            if isinstance(a, Exception):\n",
    "                return a\n",
    "        try:\n",
    "            return fnc(*args)\n",
    "        except Exception as e:\n",
    "            return e\n",
    "    return inner"
   ]
  },
  {
   "cell_type": "markdown",
   "metadata": {},
   "source": [
    "Faça um programa que peça uma nota, entre zero e dez. Mostre uma mensagem caso o valor seja inválido e continue pedindo até que o usuário informe um valor válido. "
   ]
  },
  {
   "cell_type": "code",
   "execution_count": 2,
   "metadata": {},
   "outputs": [
    {
     "name": "stdout",
     "output_type": "stream",
     "text": [
      "Digite um numero entre 0 e 10: 5\n",
      "A nota digitada foi: 5\n"
     ]
    }
   ],
   "source": [
    "def maybe_number(fnc):\n",
    "    def inner(args):\n",
    "        try:\n",
    "            return fnc(args)\n",
    "        except ValueError as e:\n",
    "            print('Deve ser um numero!')\n",
    "            return inner(args)\n",
    "    return inner\n",
    "\n",
    "get_numero = maybe_number(lambda mensagem: int(input(mensagem)))\n",
    "\n",
    "def maybe_entre_numeros(inicio, fim):\n",
    "    def maybe(fnc):\n",
    "        def inner():\n",
    "            num = get_numero(f'Digite um numero entre {inicio} e {fim}: ')\n",
    "            if (num >= inicio and num <= fim):\n",
    "                return fnc(num)\n",
    "            else:\n",
    "                return inner()\n",
    "        return inner\n",
    "    return maybe\n",
    "\n",
    "mostrar_nota = lambda: maybe_entre_numeros(0, 10)(lambda nota: print('A nota digitada foi:', nota))()\n",
    "    \n",
    "mostrar_nota()"
   ]
  },
  {
   "cell_type": "markdown",
   "metadata": {},
   "source": [
    "Faça um programa que leia e valide as seguintes informações: \n",
    "\n",
    "    Nome: maior que 3 caracteres; \n",
    "    Idade: entre 0 e 150; \n",
    "    Salário: maior que zero; \n",
    "    Sexo: 'f' ou 'm'; \n",
    "    Estado Civil: 's', 'c', 'v', 'd'; "
   ]
  },
  {
   "cell_type": "code",
   "execution_count": 3,
   "metadata": {},
   "outputs": [
    {
     "name": "stdout",
     "output_type": "stream",
     "text": [
      "Digite o(a) Nome: Uriel\n",
      "Digite o(a) Idade: 19\n",
      "Digite o(a) Salário: 1500.00\n",
      "Digite o(a) Sexo: m\n",
      "Digite o(a) Estado Civil: s\n"
     ]
    },
    {
     "data": {
      "text/plain": [
       "{'Nome': True,\n",
       " 'Idade': True,\n",
       " 'Salário': True,\n",
       " 'Sexo': True,\n",
       " 'Estado Civil': True}"
      ]
     },
     "execution_count": 3,
     "metadata": {},
     "output_type": "execute_result"
    }
   ],
   "source": [
    "campos = ['Nome', 'Idade', 'Salário', 'Sexo', 'Estado Civil']\n",
    "valores = [value for key, value in [(chave, input(f'Digite o(a) {chave}: ')) for chave in campos]]\n",
    "\n",
    "validacoes = [\n",
    "    lambda x: len(x) > 3,\n",
    "    lambda x: int(x) >= 0 and int(x) <= 150,\n",
    "    lambda x: float(x) > 0,\n",
    "    lambda x: x in ('f', 'm'),\n",
    "    lambda x: x in ('s', 'c', 'v', 'd')\n",
    "]\n",
    "\n",
    "{key: validacao(value) for key, value, validacao in zip(campos, valores, validacoes)}"
   ]
  },
  {
   "cell_type": "markdown",
   "metadata": {},
   "source": [
    "Faça um programa que leia 5 números e informe o maior número."
   ]
  },
  {
   "cell_type": "code",
   "execution_count": 4,
   "metadata": {},
   "outputs": [
    {
     "name": "stdout",
     "output_type": "stream",
     "text": [
      "Digite o 1º numero: 1\n",
      "Digite o 2º numero: 2\n",
      "Digite o 3º numero: 3\n",
      "Digite o 4º numero: 4\n",
      "Digite o 5º numero: 5\n",
      "----------\n",
      "O maior numero é o 5\n"
     ]
    }
   ],
   "source": [
    "get_cinco_numeros = lambda: [get_numero(f\"Digite o {x}º numero: \") for x in range(1, 6)]\n",
    "\n",
    "print(f'----------\\nO maior numero é o {max(get_cinco_numeros())}')"
   ]
  },
  {
   "cell_type": "markdown",
   "metadata": {},
   "source": [
    "Faça um programa que leia 5 números e informe a soma e a média dos números."
   ]
  },
  {
   "cell_type": "code",
   "execution_count": 5,
   "metadata": {},
   "outputs": [
    {
     "name": "stdout",
     "output_type": "stream",
     "text": [
      "Digite o 1º numero: 1\n",
      "Digite o 2º numero: 2\n",
      "Digite o 3º numero: 3\n",
      "Digite o 4º numero: 4\n",
      "Digite o 5º numero: 5\n",
      "----------\n",
      "Soma: 15 \n",
      "Media: 3.0\n"
     ]
    }
   ],
   "source": [
    "(lambda x: print(f'----------\\nSoma: {sum(x)} \\nMedia: {sum(x)/len(x)}'))(get_cinco_numeros())"
   ]
  },
  {
   "cell_type": "markdown",
   "metadata": {},
   "source": [
    "Faça um programa que imprima na tela apenas os números ímpares entre 1 e 50"
   ]
  },
  {
   "cell_type": "code",
   "execution_count": 6,
   "metadata": {},
   "outputs": [
    {
     "name": "stdout",
     "output_type": "stream",
     "text": [
      "Numeros ímpares entre 1 e 50: [1, 3, 5, 7, 9, 11, 13, 15, 17, 19, 21, 23, 25, 27, 29, 31, 33, 35, 37, 39, 41, 43, 45, 47, 49]\n"
     ]
    }
   ],
   "source": [
    "print(f'Numeros ímpares entre 1 e 50: {(lambda: [x for x in range(1,51) if not(x % 2 == 0)])()}')"
   ]
  },
  {
   "cell_type": "markdown",
   "metadata": {},
   "source": [
    "Desenvolva um gerador de tabuada, capaz de gerar a tabuada de qualquer número inteiro entre 1 a 10. O usuário deve informar de qual numero ele deseja ver a tabuada. A saída deve ser conforme o exemplo abaixo: \n",
    "    \n",
    "    Tabuada de 5: \n",
    "    5 X 1 = 5 \n",
    "    5 X 2 = 10 \n",
    "    ... \n",
    "    5 X 10 = 50 "
   ]
  },
  {
   "cell_type": "code",
   "execution_count": 7,
   "metadata": {},
   "outputs": [
    {
     "name": "stdout",
     "output_type": "stream",
     "text": [
      "Digite um numero entre 0 e 10: 5\n",
      "Tabuada de 5: \n",
      "5 X 0 = 5\n",
      "5 X 1 = 10\n",
      "5 X 2 = 15\n",
      "5 X 3 = 20\n",
      "5 X 4 = 25\n",
      "5 X 5 = 30\n",
      "5 X 6 = 35\n",
      "5 X 7 = 40\n",
      "5 X 8 = 45\n",
      "5 X 9 = 50\n"
     ]
    }
   ],
   "source": [
    "for i, x in enumerate((lambda: maybe_entre_numeros(0, 10)(lambda x: [x * i for i in range(1, 11)])())()):\n",
    "    if i == 0:\n",
    "        print(f'Tabuada de {x}: ')\n",
    "        y = x\n",
    "    print(f'{y} X {i} = {x}')"
   ]
  },
  {
   "cell_type": "markdown",
   "metadata": {},
   "source": [
    "A série de Fibonacci é formada pela seqüência 1,1,2,3,5,8,13,21,34,55,... Faça um programa capaz de gerar a série até o n−ésimo termo."
   ]
  },
  {
   "cell_type": "code",
   "execution_count": 8,
   "metadata": {},
   "outputs": [
    {
     "name": "stdout",
     "output_type": "stream",
     "text": [
      "Digite até qual termo a série será gerada: 10\n",
      "[1, 1, 2, 3, 5, 8, 13, 21, 34, 55]\n"
     ]
    }
   ],
   "source": [
    "from functools import reduce\n",
    "\n",
    "n = get_numero('Digite até qual termo a série será gerada: ')\n",
    " \n",
    "fibonacci = lambda n:reduce(lambda x,n:[x[1],x[0]+x[1]], range(n),[0,1])[0]\n",
    "    \n",
    "print([fibonacci(x) for x in range(1, n+1)])"
   ]
  },
  {
   "cell_type": "markdown",
   "metadata": {},
   "source": [
    "Faça um programa que calcule o fatorial de um número inteiro fornecido pelo usuário. Ex.: 5!=5.4.3.2.1=120"
   ]
  },
  {
   "cell_type": "code",
   "execution_count": 9,
   "metadata": {},
   "outputs": [
    {
     "name": "stdout",
     "output_type": "stream",
     "text": [
      "Digite o numero que deseja calcular o fatorial: 5\n",
      "5! = 120\n"
     ]
    }
   ],
   "source": [
    "fatorial = lambda numero: reduce(lambda a, b: a * b, [i for i in range(1, numero+1)])\n",
    "\n",
    "x = get_numero(\"Digite o numero que deseja calcular o fatorial: \")\n",
    "\n",
    "print(f'{x}! = {fatorial(x)}')"
   ]
  },
  {
   "cell_type": "markdown",
   "metadata": {},
   "source": [
    "O Sr. Manoel Joaquim possui uma grande loja de artigos de R$ 1,99, com cerca de 10 caixas. Para agilizar o cálculo de quanto cada cliente deve pagar ele desenvolveu um tabela que contém o número de itens que o cliente comprou e ao lado o valor da conta. Desta forma a atendente do caixa precisa apenas contar quantos itens o cliente está levando e olhar na tabela de preços. Você foi contratado para desenvolver o programa que monta esta tabela de preços, que conterá os preços de 1 até 50 produtos, conforme o exemplo abaixo: \n",
    "\n",
    "    Lojas Quase Dois - Tabela de preços\n",
    "    1 - R$ 1.99\n",
    "2 - R$ 3.98 \n",
    "    ... \n",
    "    50 - R$ 99.50 "
   ]
  },
  {
   "cell_type": "code",
   "execution_count": 10,
   "metadata": {},
   "outputs": [
    {
     "name": "stdout",
     "output_type": "stream",
     "text": [
      "Lojas Quase Dois - Tabela de preços\n",
      "1 - R$ 1.99\n",
      "2 - R$ 3.98\n",
      "3 - R$ 5.97\n",
      "4 - R$ 7.96\n",
      "5 - R$ 9.95\n",
      "6 - R$ 11.94\n",
      "7 - R$ 13.93\n",
      "8 - R$ 15.92\n",
      "9 - R$ 17.91\n",
      "10 - R$ 19.90\n",
      "11 - R$ 21.89\n",
      "12 - R$ 23.88\n",
      "13 - R$ 25.87\n",
      "14 - R$ 27.86\n",
      "15 - R$ 29.85\n",
      "16 - R$ 31.84\n",
      "17 - R$ 33.83\n",
      "18 - R$ 35.82\n",
      "19 - R$ 37.81\n",
      "20 - R$ 39.80\n",
      "21 - R$ 41.79\n",
      "22 - R$ 43.78\n",
      "23 - R$ 45.77\n",
      "24 - R$ 47.76\n",
      "25 - R$ 49.75\n",
      "26 - R$ 51.74\n",
      "27 - R$ 53.73\n",
      "28 - R$ 55.72\n",
      "29 - R$ 57.71\n",
      "30 - R$ 59.70\n",
      "31 - R$ 61.69\n",
      "32 - R$ 63.68\n",
      "33 - R$ 65.67\n",
      "34 - R$ 67.66\n",
      "35 - R$ 69.65\n",
      "36 - R$ 71.64\n",
      "37 - R$ 73.63\n",
      "38 - R$ 75.62\n",
      "39 - R$ 77.61\n",
      "40 - R$ 79.60\n",
      "41 - R$ 81.59\n",
      "42 - R$ 83.58\n",
      "43 - R$ 85.57\n",
      "44 - R$ 87.56\n",
      "45 - R$ 89.55\n",
      "46 - R$ 91.54\n",
      "47 - R$ 93.53\n",
      "48 - R$ 95.52\n",
      "49 - R$ 97.51\n",
      "50 - R$ 99.50\n",
      "\n"
     ]
    }
   ],
   "source": [
    "print('Lojas Quase Dois - Tabela de preços')\n",
    "[print(f'{i} - R$ {1.99 * i:.2f}') for i in range(1, 51)]\n",
    "print()"
   ]
  },
  {
   "cell_type": "markdown",
   "metadata": {},
   "source": [
    "O Sr. Manoel Joaquim acaba de adquirir uma panificadora e pretende implantar a metodologia da tabelinha, que já é um sucesso na sua loja de 1,99. Você foi contratado para desenvolver o programa que monta a tabela de preços de pães, de 1 até 50 pães, a partir do preço do pão informado pelo usuário, conforme o exemplo abaixo: \n",
    "\n",
    "        Preço do pão: R$ 0.18 \n",
    "    Panificadora Pão de Ontem - Tabela de preços \n",
    "    1 - R$ 0.18 \n",
    "        2 - R$ 0.36 \n",
    "    ... \n",
    "    50 - R$ 9.00 "
   ]
  },
  {
   "cell_type": "code",
   "execution_count": 11,
   "metadata": {},
   "outputs": [
    {
     "name": "stdout",
     "output_type": "stream",
     "text": [
      "Preço do pão: R$0.18\n",
      "Panificadora Pão de Ontem - Tabela de preços\n",
      "1 - R$ 0.18\n",
      "2 - R$ 0.36\n",
      "3 - R$ 0.54\n",
      "4 - R$ 0.72\n",
      "5 - R$ 0.90\n",
      "6 - R$ 1.08\n",
      "7 - R$ 1.26\n",
      "8 - R$ 1.44\n",
      "9 - R$ 1.62\n",
      "10 - R$ 1.80\n",
      "11 - R$ 1.98\n",
      "12 - R$ 2.16\n",
      "13 - R$ 2.34\n",
      "14 - R$ 2.52\n",
      "15 - R$ 2.70\n",
      "16 - R$ 2.88\n",
      "17 - R$ 3.06\n",
      "18 - R$ 3.24\n",
      "19 - R$ 3.42\n",
      "20 - R$ 3.60\n",
      "21 - R$ 3.78\n",
      "22 - R$ 3.96\n",
      "23 - R$ 4.14\n",
      "24 - R$ 4.32\n",
      "25 - R$ 4.50\n",
      "26 - R$ 4.68\n",
      "27 - R$ 4.86\n",
      "28 - R$ 5.04\n",
      "29 - R$ 5.22\n",
      "30 - R$ 5.40\n",
      "31 - R$ 5.58\n",
      "32 - R$ 5.76\n",
      "33 - R$ 5.94\n",
      "34 - R$ 6.12\n",
      "35 - R$ 6.30\n",
      "36 - R$ 6.48\n",
      "37 - R$ 6.66\n",
      "38 - R$ 6.84\n",
      "39 - R$ 7.02\n",
      "40 - R$ 7.20\n",
      "41 - R$ 7.38\n",
      "42 - R$ 7.56\n",
      "43 - R$ 7.74\n",
      "44 - R$ 7.92\n",
      "45 - R$ 8.10\n",
      "46 - R$ 8.28\n",
      "47 - R$ 8.46\n",
      "48 - R$ 8.64\n",
      "49 - R$ 8.82\n",
      "50 - R$ 9.00\n",
      "\n"
     ]
    }
   ],
   "source": [
    "get_numero_float = maybe_number(lambda mensagem: float(input(mensagem)))\n",
    "y = get_numero_float('Preço do pão: R$')\n",
    "print('Panificadora Pão de Ontem - Tabela de preços')\n",
    "[print(f'{i} - R$ {y * i:.2f}') for i in range(1, 51)]\n",
    "print()"
   ]
  },
  {
   "cell_type": "markdown",
   "metadata": {},
   "source": [
    "O Sr. Manoel Joaquim expandiu seus negócios para além dos negócios de 1,99 e agora possui uma loja de conveniências. Faça um programa que implemente uma caixa registradora rudimentar. O programa deverá receber um número desconhecido de valores referentes aos preços das mercadorias. Um valor zero deve ser informado pelo operador para indicar o final da compra. O programa deve então mostrar o total da compra e perguntar o valor em dinheiro que o cliente forneceu, \n",
    "para então calcular e mostrar o valor do troco. Após esta operação, o programa deverá voltar ao ponto inicial, para registrar a próxima compra. A saída deve ser conforme o exemplo abaixo: \n",
    "\n",
    "        Lojas Tabajara  \n",
    "        Produto 1: R$ 2.20 \n",
    "    Produto 2: R$ 5.80 \n",
    "        Produto 3: R$ 0 \n",
    "    Total: R$ 9.00 \n",
    "        Dinheiro: R$ 20.00 \n",
    "    Troco: R$ 11.00 \n",
    "        ..."
   ]
  },
  {
   "cell_type": "code",
   "execution_count": 12,
   "metadata": {},
   "outputs": [
    {
     "name": "stdout",
     "output_type": "stream",
     "text": [
      "Lojas Tabajara\n",
      "Produto 1: R$ 2.20\n",
      "Produto 2: R$ 5.80\n",
      "Produto 3: R$ 0\n",
      "Total: R$ 8.00\n",
      "Dinheiro: R$ 20\n",
      "Troco: R$ 12.0\n",
      "...\n"
     ]
    }
   ],
   "source": [
    "print('Lojas Tabajara')\n",
    "\n",
    "valor = -1\n",
    "total = 0\n",
    "n = 0\n",
    "\n",
    "while valor != 0:\n",
    "    n += 1\n",
    "    valor = get_numero_float(f'Produto {n}: R$ ')\n",
    "    total += valor\n",
    "\n",
    "                   \n",
    "print(f'Total: R$ {total:.2f}')\n",
    "\n",
    "dinheiro = get_numero_float('Dinheiro: R$ ')\n",
    "print(f'Troco: R$ {dinheiro - total}\\n...')"
   ]
  },
  {
   "cell_type": "markdown",
   "metadata": {},
   "source": [
    "Foi feita uma estatística em cinco cidades brasileiras para coletar dados sobre acidentes de trânsito. Foram obtidos os seguintes dados: \n",
    "- Código da cidade; \n",
    "- Número de veículos de passeio (em 1999); \n",
    "- Número de acidentes de trânsito com vítimas (em 1999). Deseja-se saber: \n",
    "- Qual o maior e menor índice de acidentes de transito e a que cidade pertence; \n",
    "- Qual a média de veículos nas cinco cidades juntas; \n",
    "- Qual a média de acidentes de trânsito nas cidades com menos de 2.000 veículos de passeio. "
   ]
  },
  {
   "cell_type": "code",
   "execution_count": 13,
   "metadata": {},
   "outputs": [
    {
     "name": "stdout",
     "output_type": "stream",
     "text": [
      "\n",
      "Digite o nome da cidade.....................: São Paulo\n",
      "Digite o código da cidade...................: 77\n",
      "Numero de veiculos de passeio...............: 1\n",
      "Numero de acidentes de transito com vitimas.: 28\n",
      "\n",
      "Digite o nome da cidade.....................: Belo Horizonte\n",
      "Digite o código da cidade...................: 61\n",
      "Numero de veiculos de passeio...............: 69\n",
      "Numero de acidentes de transito com vitimas.: 18\n",
      "\n",
      "Digite o nome da cidade.....................: Rio de Janeiro\n",
      "Digite o código da cidade...................: 44\n",
      "Numero de veiculos de passeio...............: 7\n",
      "Numero de acidentes de transito com vitimas.: 61\n",
      "\n",
      "Digite o nome da cidade.....................: Brasilia\n",
      "Digite o código da cidade...................: 73\n",
      "Numero de veiculos de passeio...............: 63\n",
      "Numero de acidentes de transito com vitimas.: 8\n",
      "\n",
      "Digite o nome da cidade.....................: Osasco\n",
      "Digite o código da cidade...................: 100\n",
      "Numero de veiculos de passeio...............: 45\n",
      "Numero de acidentes de transito com vitimas.: 36\n",
      "\n",
      "-=-=-=-=-=-=-=-=-=-=-=-=-=-=-=-=-=-=-=-=-=-=-=-=-=-=-=-=-=-=-\n",
      "O menor indice de acidentes de transito 8 cidade que pertence Brasilia O maior indice de acidenstes de transito 61 cidade que pertence Rio de Janeiro Media de veiculos nas cincos cidades 37.0 Media de acidentes de transitos nas cidades com menos de 2000 é 30.2\n"
     ]
    }
   ],
   "source": [
    "maior = menor = count = soma_veiculos = soma_acidentes = soma_2k = 0\n",
    "cid_maior = cid_menor = ''\n",
    "\n",
    "for c in range(1,6):\n",
    "    cidade      = input(\"\\nDigite o nome da cidade.....................: \")\n",
    "    codigo      = get_numero(\"Digite o código da cidade...................: \")\n",
    "    veiculos    = get_numero(\"Numero de veiculos de passeio...............: \")\n",
    "    acidentes   = get_numero(\"Numero de acidentes de transito com vitimas.: \")\n",
    "\n",
    "    soma_veiculos += veiculos\n",
    "    soma_acidentes += acidentes\n",
    "\n",
    "    if acidentes > maior:\n",
    "        maior = acidentes\n",
    "        cid_maior = cidade\n",
    "\n",
    "    if acidentes < menor or c == 1:\n",
    "        menor = acidentes\n",
    "        cid_menor = cidade\n",
    "\n",
    "    if veiculos < 2000:\n",
    "        soma_2k += acidentes\n",
    "        count += 1\n",
    "        \n",
    "media_nas_5_cidades = soma_veiculos / c\n",
    "media_2k = soma_2k / count\n",
    "\n",
    "\n",
    "print(\"\\n\"+\"-=\"*30 + '-')\n",
    "\n",
    "print(\n",
    "    f\"O menor indice de acidentes de transito {menor} cidade que pertence {cid_menor}\",\n",
    "    f\"O maior indice de acidenstes de transito {maior} cidade que pertence {cid_maior}\",\n",
    "    f\"Media de veiculos nas cincos cidades {media_nas_5_cidades}\", \n",
    "    f\"Media de acidentes de transitos nas cidades com menos de 2000 é {media_2k}\"\n",
    ") "
   ]
  },
  {
   "cell_type": "markdown",
   "metadata": {},
   "source": [
    "Faça um programa que receba o valor de uma dívida e mostre uma tabela com os seguintes dados: valor da dívida, valor dos juros, quantidade de parcelas e valor da parcela. \n",
    "Os juros e a quantidade de parcelas seguem a tabela abaixo: \n",
    "Quantidade de Parcelas  % de Juros sobre o valor inicial da dívida \n",
    "     \n",
    "     1       0 \n",
    "     3       10 \n",
    "     6       15 \n",
    "     9       20 \n",
    "     12      25 \n",
    " \n",
    "\n",
    "Exemplo de saída do programa: \n",
    " \n",
    "    Valor da Dívida Valor dos Juros Quantidade de Parcelas  Valor da Parcela \n",
    "    R$ 1.000,00     0               1                       R$  1.000,00 \n",
    "    R$ 1.100,00     100             3                       R$    366,00 \n",
    "    R$ 1.150,00     150             6                       R$    191,67 "
   ]
  },
  {
   "cell_type": "code",
   "execution_count": 14,
   "metadata": {},
   "outputs": [
    {
     "name": "stdout",
     "output_type": "stream",
     "text": [
      "Digite o valor da divida: 1000\n",
      "Valor da Dívida\tValor dos Juros\tQuantidade de Parcelas\tValor da Parcela\n",
      "R$ 1000,00\t0\t\t1\t\t\tR$ 1000,00\n",
      "R$ 1100,00\t10\t\t3\t\t\tR$ 366,67\n",
      "R$ 1150,00\t15\t\t6\t\t\tR$ 191,67\n",
      "R$ 1200,00\t20\t\t9\t\t\tR$ 133,33\n",
      "R$ 1250,00\t25\t\t12\t\t\tR$ 104,17\n",
      "\n"
     ]
    }
   ],
   "source": [
    "import locale\n",
    "locale.setlocale(locale.LC_ALL, 'pt_BR.UTF-8')\n",
    "\n",
    "valor_divida = float(input(\"Digite o valor da divida: \"))\n",
    "print('Valor da Dívida', 'Valor dos Juros', 'Quantidade de Parcelas', 'Valor da Parcela', sep=\"\\t\")\n",
    "[\n",
    "    print(\n",
    "        f'{locale.currency(valor_divida * (1+juros/100))}\\t{juros}\\t\\t{parcelas}\\t\\t\\t{locale.currency(valor_divida * (1+juros/100)/parcelas)}'\n",
    "    )\n",
    "    for parcelas, juros in [\n",
    "        [1, 0],\n",
    "        [3, 10],\n",
    "        [6, 15],\n",
    "        [9, 20],\n",
    "        [12, 25]\n",
    "    ]\n",
    "]\n",
    "print()"
   ]
  },
  {
   "cell_type": "markdown",
   "metadata": {},
   "source": [
    "Faça um programa que mostre os n termos da Série a seguir:\n",
    "\n",
    "    S = 1/1 + 2/3 + 3/5 + 4/7 + 5/9 + ... + n/m.  \n",
    "Imprima no final a soma da série."
   ]
  },
  {
   "cell_type": "code",
   "execution_count": 15,
   "metadata": {},
   "outputs": [
    {
     "name": "stdout",
     "output_type": "stream",
     "text": [
      "Digite até onde a série irá: 5\n",
      "S = 1/1 + 2/3 + 3/5 + 4/7 + 5/9 \n",
      "Soma = 3.393650793650793\n"
     ]
    }
   ],
   "source": [
    "n = int(input(\"Digite até onde a série irá: \"))\n",
    "\n",
    "b = 1\n",
    "s = ''\n",
    "soma = 0\n",
    "\n",
    "for a in range(1, n + 1):\n",
    "    s += f'{a}/{b}'\n",
    "    if a != n:\n",
    "        s += ' + '\n",
    "    soma += a/b\n",
    "    a += 1 \n",
    "    b += 2\n",
    "    \n",
    "print(f'S = {s} \\nSoma = {soma}')"
   ]
  },
  {
   "cell_type": "code",
   "execution_count": null,
   "metadata": {},
   "outputs": [],
   "source": []
  }
 ],
 "metadata": {
  "kernelspec": {
   "display_name": "Python 3",
   "language": "python",
   "name": "python3"
  },
  "language_info": {
   "codemirror_mode": {
    "name": "ipython",
    "version": 3
   },
   "file_extension": ".py",
   "mimetype": "text/x-python",
   "name": "python",
   "nbconvert_exporter": "python",
   "pygments_lexer": "ipython3",
   "version": "3.7.1"
  }
 },
 "nbformat": 4,
 "nbformat_minor": 2
}
