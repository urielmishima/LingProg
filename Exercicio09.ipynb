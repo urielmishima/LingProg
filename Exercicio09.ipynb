{
 "cells": [
  {
   "cell_type": "markdown",
   "metadata": {},
   "source": [
    "### Uriel Henrique Marques Farias Mishima\n",
    "\n",
    "### RA: 81717300"
   ]
  },
  {
   "cell_type": "markdown",
   "metadata": {},
   "source": [
    "Implemente um gerador infinito de números primos."
   ]
  },
  {
   "cell_type": "code",
   "execution_count": 1,
   "metadata": {},
   "outputs": [
    {
     "name": "stdout",
     "output_type": "stream",
     "text": [
      "1\n",
      "2\n",
      "3\n",
      "5\n",
      "7\n",
      "11\n",
      "13\n",
      "17\n",
      "19\n",
      "23\n"
     ]
    }
   ],
   "source": [
    "def gera_primos_aux():\n",
    "    num = 1\n",
    "    while True:\n",
    "        if num == 1 or num == 2 or not(any(list(map(lambda i: num % i == 0, range(2, num))))):\n",
    "            yield num\n",
    "        num += 1\n",
    "\n",
    "g = gera_primos_aux()\n",
    "gera_primos = lambda: g.send(None)\n",
    "\n",
    "i = 0\n",
    "while i < 10:\n",
    "    print(gera_primos())\n",
    "    i += 1"
   ]
  },
  {
   "cell_type": "markdown",
   "metadata": {},
   "source": [
    "Implementar um gerador que leia um arquivo e retorne uma lista de tuplas com os dados (o separador de campo do arquivo é virgula), eliminando as linhas vazias. Caso ocorra algum problema, imprima uma mensagem de aviso e encerre o programa. "
   ]
  },
  {
   "cell_type": "code",
   "execution_count": 2,
   "metadata": {},
   "outputs": [
    {
     "data": {
      "text/plain": [
       "[('1', 'vermelho'),\n",
       " ('2', 'verde'),\n",
       " ('3', 'amarelo'),\n",
       " ('4', 'roxo'),\n",
       " ('5', 'verde'),\n",
       " ('6', 'preto'),\n",
       " ('7', 'laranja'),\n",
       " ('8', 'amarelo'),\n",
       " ('9', 'preto'),\n",
       " ('10', 'roxo'),\n",
       " ('11', 'roxo'),\n",
       " ('12', 'branco')]"
      ]
     },
     "execution_count": 2,
     "metadata": {},
     "output_type": "execute_result"
    }
   ],
   "source": [
    "def gera_tupla_aux():\n",
    "    nome_arquivo = yield\n",
    "    arquivo = open(nome_arquivo).read().replace('\\n', ',').split(',')\n",
    "    yield list(zip(arquivo[::2], arquivo[1::2]))\n",
    "    \n",
    "g = gera_tupla_aux()\n",
    "g.send(None)\n",
    "gera_tupla = lambda x: g.send(x)\n",
    "\n",
    "gera_tupla('teste.txt') "
   ]
  },
  {
   "cell_type": "markdown",
   "metadata": {},
   "source": [
    "Implementar dois geradores e rodá-los em paralelo (coroutine) para processar dois arquivos e gerar tuplas. O primeiro é similar ao do exercício 2. O segundo processa outro arquivo, também separado por vírgulas. No final, a lista gerada deve conter tuplas com 3 elementos."
   ]
  },
  {
   "cell_type": "code",
   "execution_count": 3,
   "metadata": {},
   "outputs": [
    {
     "data": {
      "text/plain": [
       "[('1', 'vermelho', False),\n",
       " ('2', 'verde', True),\n",
       " ('3', 'amarelo', False),\n",
       " ('4', 'roxo', False),\n",
       " ('5', 'verde', True),\n",
       " ('6', 'preto', True),\n",
       " ('7', 'laranja', True),\n",
       " ('8', 'amarelo', False),\n",
       " ('9', 'preto', True),\n",
       " ('10', 'roxo', False),\n",
       " ('11', 'roxo', False),\n",
       " ('12', 'branco', True)]"
      ]
     },
     "execution_count": 3,
     "metadata": {},
     "output_type": "execute_result"
    }
   ],
   "source": [
    "def gera_tupla_aux1():\n",
    "    nome_arquivo = yield\n",
    "    arquivo = open(nome_arquivo).read().replace('\\n', ',').split(',')\n",
    "    yield list(zip(arquivo[::2], arquivo[1::2]))\n",
    "    \n",
    "def gera_tupla_aux2():\n",
    "    nome_arquivo = yield\n",
    "    yield open(nome_arquivo).read().replace('\\n', ',').split(',')\n",
    "    \n",
    "g1 = gera_tupla_aux1()\n",
    "g1.send(None)\n",
    "g2 = gera_tupla_aux2()\n",
    "g2.send(None)\n",
    "\n",
    "gera_tupla1 = lambda x: g1.send(x)\n",
    "gera_tupla2 = lambda x: g2.send(x)\n",
    "\n",
    "result = []\n",
    "for x in zip(gera_tupla1('teste1.txt'), gera_tupla2('teste2.txt')):\n",
    "    result.append((x[0][0], x[0][1], x[1] == str(1)))\n",
    "    \n",
    "result"
   ]
  },
  {
   "cell_type": "markdown",
   "metadata": {},
   "source": [
    "Escreva um generator que crie um fluxo infinito de inteiros a partir de um valor inicial dado com passo 5."
   ]
  },
  {
   "cell_type": "code",
   "execution_count": 6,
   "metadata": {},
   "outputs": [
    {
     "name": "stdout",
     "output_type": "stream",
     "text": [
      "12\n",
      "17\n",
      "22\n",
      "27\n"
     ]
    }
   ],
   "source": [
    "def gera_inteiros(num):\n",
    "    numero = num + 5\n",
    "    yield numero\n",
    "    while True:\n",
    "        numero += 5\n",
    "        yield numero\n",
    "        \n",
    "g = gera_inteiros(7)\n",
    "i = 0\n",
    "while i < 4:\n",
    "    print(g.send(None))\n",
    "    i += 1"
   ]
  },
  {
   "cell_type": "markdown",
   "metadata": {},
   "source": [
    " Estenda o generator do exercício 4 em uma coroutine que permita que a mudança do passo seja feita de fora (use send()). "
   ]
  },
  {
   "cell_type": "code",
   "execution_count": 7,
   "metadata": {},
   "outputs": [
    {
     "name": "stdout",
     "output_type": "stream",
     "text": [
      "12\n",
      "17\n",
      "22\n",
      "24\n",
      "26\n",
      "28\n",
      "30\n"
     ]
    }
   ],
   "source": [
    "def gera_inteiros_flex(num):\n",
    "    numero = num + 5\n",
    "    yield numero\n",
    "    while True:\n",
    "        passo = yield\n",
    "        numero += passo\n",
    "        yield numero\n",
    "        \n",
    "g = gera_inteiros_flex(7)\n",
    "print(g.send(None))\n",
    "\n",
    "i = 0\n",
    "while i < 2:\n",
    "    next(g)\n",
    "    print(g.send(5))\n",
    "    i += 1\n",
    "\n",
    "i = 0\n",
    "while i < 4:\n",
    "    next(g)\n",
    "    print(g.send(2))\n",
    "    i += 1"
   ]
  },
  {
   "cell_type": "code",
   "execution_count": null,
   "metadata": {},
   "outputs": [],
   "source": []
  }
 ],
 "metadata": {
  "kernelspec": {
   "display_name": "Python 3",
   "language": "python",
   "name": "python3"
  },
  "language_info": {
   "codemirror_mode": {
    "name": "ipython",
    "version": 3
   },
   "file_extension": ".py",
   "mimetype": "text/x-python",
   "name": "python",
   "nbconvert_exporter": "python",
   "pygments_lexer": "ipython3",
   "version": "3.7.1"
  }
 },
 "nbformat": 4,
 "nbformat_minor": 2
}
