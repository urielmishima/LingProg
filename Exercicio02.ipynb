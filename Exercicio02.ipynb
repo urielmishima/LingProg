{
 "cells": [
  {
   "cell_type": "markdown",
   "metadata": {},
   "source": [
    "### Uriel Henrique Marques Farias Mishima\n",
    "\n",
    "### RA: 81717300"
   ]
  },
  {
   "cell_type": "markdown",
   "metadata": {},
   "source": [
    "Crie um programa que recebe uma lista de números e \n",
    "- retorne o maior elemento \n",
    "- retorne a soma dos elementos \n",
    "- retorne o número de ocorrências do primeiro elemento da lista \n",
    "- retorne a média dos elementos \n",
    "- retorne o valor mais próximo da média dos elementos \n",
    "- retorne a soma dos elementos com valor negativo \n",
    "- retorne a quantidade de vizinhos iguais "
   ]
  },
  {
   "cell_type": "code",
   "execution_count": 2,
   "metadata": {},
   "outputs": [
    {
     "name": "stdout",
     "output_type": "stream",
     "text": [
      "[9, -9, -1, 3, -6, -8, -2, -2, 6, -3]\n",
      "Maior elemento: 9\n",
      "Soma dos elementos: -13\n",
      "Número de ocorrências do primeiro elemento da lista: 1\n",
      "Média dos elementos: -1.3\n",
      "Valor mais próximo da média dos elementos: -1\n",
      "Soma dos elementos com valor negativo -31\n",
      "A quantidade de vizinhos iguais: 2\n"
     ]
    }
   ],
   "source": [
    "import random\n",
    "numeros = [random.randrange(-10, 10) for item in range(10)]\n",
    "\n",
    "print(numeros)\n",
    "\n",
    "media = sum(numeros)/len(numeros)\n",
    "diff = {item: abs(item - media) for item in numeros}\n",
    "vizinhos = 0\n",
    "i=0\n",
    "\n",
    "while i < len(numeros):\n",
    "    if i < len(numeros) - 1:\n",
    "        if numeros[i] == numeros[i+1]:\n",
    "            vizinhos += 1\n",
    "    if i > 0 :\n",
    "        if numeros[i] == numeros[i-1]:\n",
    "            vizinhos += 1\n",
    "    i += 1\n",
    "\n",
    "print(f'Maior elemento: {max(numeros)}',\n",
    "      f'Soma dos elementos: {sum(numeros)}',\n",
    "      f'Número de ocorrências do primeiro elemento da lista: {numeros.count(numeros[0])}',\n",
    "      f'Média dos elementos: {media}',\n",
    "      f'Valor mais próximo da média dos elementos: {min(diff, key=diff.get)}',\n",
    "      f'Soma dos elementos com valor negativo {sum(item for item in numeros if item < 0)}',\n",
    "      f'A quantidade de vizinhos iguais: {vizinhos}',\n",
    "     sep='\\n')"
   ]
  },
  {
   "cell_type": "markdown",
   "metadata": {},
   "source": [
    "Faça um programa que receba duas listas e retorne True se são iguais ou False caso contrario. Duas listas são iguais se possuem os mesmos valores e na mesma ordem."
   ]
  },
  {
   "cell_type": "code",
   "execution_count": 3,
   "metadata": {},
   "outputs": [
    {
     "name": "stdout",
     "output_type": "stream",
     "text": [
      "Lista 1: [0, 0, -1]\n",
      "lista 2: [-1, 0, 0]\n",
      "False\n"
     ]
    }
   ],
   "source": [
    "import random\n",
    "lista1 = [random.randrange(-1, 1) for item in range(3)]\n",
    "lista2 = [random.randrange(-1, 1) for item in range(3)]\n",
    "\n",
    "print(f'Lista 1: {lista1}',\n",
    "      f'lista 2: {lista2}',\n",
    "      lista1 == lista2,\n",
    "     sep='\\n')"
   ]
  },
  {
   "cell_type": "markdown",
   "metadata": {},
   "source": [
    "Faça um programa que receba duas listas e retorne True se têm os mesmos elementos ou False caso contrário Duas listas possuem os mesmos elementos quando são compostas pelos mesmos valores, mas não obrigatoriamente na mesma ordem."
   ]
  },
  {
   "cell_type": "code",
   "execution_count": 4,
   "metadata": {},
   "outputs": [
    {
     "name": "stdout",
     "output_type": "stream",
     "text": [
      "Lista 1: [-1, 1, -1]\n",
      "lista 2: [0, 0, 0]\n",
      "Tem exatamente os mesmos valores com a mesma quantidade de repetição: False\n",
      "Tem os mesmos valores não importando a quantidade de repetição: False\n"
     ]
    }
   ],
   "source": [
    "import random\n",
    "lista1 = [random.randrange(-1, 2) for item in range(3)]\n",
    "lista2 = [random.randrange(-1, 2) for item in range(3)]\n",
    "\n",
    "print(f'Lista 1: {lista1}',\n",
    "      f'lista 2: {lista2}',\n",
    "      f'Tem exatamente os mesmos valores com a mesma quantidade de repetição: {sorted(lista1) == sorted(lista2)}',\n",
    "      f'Tem os mesmos valores não importando a quantidade de repetição: {len([x for x in lista1 if x not in lista2]) == 0 and len([x for x in lista2 if x not in lista1]) == 0}',\n",
    "     sep='\\n')"
   ]
  },
  {
   "cell_type": "markdown",
   "metadata": {},
   "source": [
    "Faça um programa que percorre uma lista com o seguinte formato: [['Brasil', 'Italia', [10, 9]], ['Brasil', 'Espanha', [5, 7]], ['Italia', 'Espanha', [7,8]]]. Essa lista indica o número de faltas que cada time fez em cada jogo. Na lista acima, no jogo entre Brasil e Itália, o Brasil fez 10 faltas e a Itália fez 9. O programa deve imprimir na tela: \n",
    "- o total de faltas do campeonato  \n",
    "- o time que fez mais faltas \n",
    "- o time que fez menos faltas"
   ]
  },
  {
   "cell_type": "code",
   "execution_count": 5,
   "metadata": {},
   "outputs": [
    {
     "name": "stdout",
     "output_type": "stream",
     "text": [
      "O total de faltas do campeonato: 46\n",
      "Time com mais faltas: Italia - 16 faltas\n",
      "Time com menos faltas: Brasil - 15 faltas\n"
     ]
    }
   ],
   "source": [
    "jogos = [['Brasil', 'Italia', [10, 9]], ['Brasil', 'Espanha', [5, 7]], ['Italia', 'Espanha', [7,8]]]\n",
    "\n",
    "total_faltas = 0\n",
    "for jogo in jogos:\n",
    "    total_faltas += jogo[2][0]\n",
    "    total_faltas += jogo[2][1]\n",
    "print(f'O total de faltas do campeonato: {total_faltas}')\n",
    "\n",
    "d = {}\n",
    "for jogo in jogos:\n",
    "    d[jogo[0]] = 0\n",
    "    d[jogo[1]] = 0\n",
    "\n",
    "\n",
    "for jogo in jogos:\n",
    "    d[jogo[0]] += jogo[2][0]\n",
    "    d[jogo[1]] += jogo[2][1]\n",
    "    \n",
    "print(f'Time com mais faltas: {max(d)} - {d[max(d)]} faltas')\n",
    "print(f'Time com menos faltas: {min(d)} - {d[min(d)]} faltas')"
   ]
  },
  {
   "cell_type": "markdown",
   "metadata": {},
   "source": [
    "Escreva um programa que conta a quantidade de vogais em uma string e armazena tal quantidade em um dicionário, onde a chave é a vogal considerada. "
   ]
  },
  {
   "cell_type": "code",
   "execution_count": 6,
   "metadata": {},
   "outputs": [
    {
     "name": "stdout",
     "output_type": "stream",
     "text": [
      "{'a': 2, 'e': 3, 'i': 1, 'o': 1, 'u': 1, 'Total': 8}\n"
     ]
    }
   ],
   "source": [
    "string = 'Um Paralelepipedo'\n",
    "string = string.lower()\n",
    "\n",
    "vogais = 'aeiou'\n",
    "\n",
    "d = {}\n",
    "for letra in vogais:\n",
    "    d[letra] = 0\n",
    "d['Total'] = 0\n",
    "    \n",
    "for letra in string:\n",
    "    if letra in vogais :\n",
    "        d[letra] += 1\n",
    "        d['Total'] += 1\n",
    "print(d)"
   ]
  },
  {
   "cell_type": "markdown",
   "metadata": {},
   "source": [
    "Escreva um programa que lê̂ duas notas de vários alunos e armazena tais notas em um dicionário, onde a chave é o nome do aluno. A entrada de dados deve terminar quando for lida uma string vazia como nome. Escreva uma função que retorna a média do aluno, dado seu nome."
   ]
  },
  {
   "cell_type": "code",
   "execution_count": 15,
   "metadata": {},
   "outputs": [
    {
     "name": "stdout",
     "output_type": "stream",
     "text": [
      "Digite o nome do aluno: a\n",
      "Digite a primeira nota do(a) A: 1\n",
      "Digite a segunda nota do(a) A: 1\n",
      "Digite o nome do aluno: \n",
      "Digite o nome do aluno: a\n",
      "A: Média 1.0\n"
     ]
    }
   ],
   "source": [
    "nome = input(\"Digite o nome do aluno: \")\n",
    "alunos = {}\n",
    "while nome:\n",
    "    alunos[nome] = [float(input(f'Digite a primeira nota do(a) {nome}: ')), float(input(f'Digite a segunda nota do(a) {nome}: '))]\n",
    "    nome = input(\"Digite o nome do aluno: \")\n",
    "    \n",
    "nome = input(\"Digite qual aluno deseja ver a média: \")\n",
    "aluno = alunos[nome]\n",
    "\n",
    "print(f'{nome}: Média {sum(aluno)/len(aluno)}')"
   ]
  },
  {
   "cell_type": "markdown",
   "metadata": {},
   "source": [
    "Uma pista de Kart permite 10 voltas para cada um de 6 corredores. Escreva um programa que leia todos os tempos em segundos e os guarde em um dicionário, onde a chave é o nome do corredor. Ao final diga de quem foi a melhor volta da prova e em que volta; e ainda a classificação final em ordem (1o o campeão). O campeão é o que tem a menor média de tempos. "
   ]
  },
  {
   "cell_type": "code",
   "execution_count": null,
   "metadata": {},
   "outputs": [],
   "source": []
  },
  {
   "cell_type": "markdown",
   "metadata": {},
   "source": [
    "Escreva um programa para armazenar uma agenda de telefones em um dicionário. Cada pessoa pode ter um ou mais telefones e a chave do dicionário é o nome da pessoa. Seu programa deve ter as seguintes funções: \n",
    "- incluirNovoNome – essa função acrescenta um novo nome na agenda, com um ou mais telefones. Ela deve receber como argumentos o nome e os telefones. \n",
    "- incluirTelefone – essa função acrescenta um telefone em um nome existente na agenda. Caso o nome não exista na agenda, você̂ deve perguntar se a pessoa deseja inclui-lo. Caso a resposta seja afirmativa, use a função anterior para incluir o novo nome. \n",
    "- excluirTelefone – essa função exclui um telefone de uma pessoa que já está na agenda. Se a pessoa tiver apenas um telefone, ela deve ser excluída da agenda. \n",
    "- excluirNome – essa função exclui uma pessoa da agenda.\n",
    "- consultarTelefone – essa função retorna os telefones de uma pessoa na agenda. \n"
   ]
  },
  {
   "cell_type": "code",
   "execution_count": 2,
   "metadata": {},
   "outputs": [
    {
     "name": "stdout",
     "output_type": "stream",
     "text": [
      "\n",
      "Escolha uma opção: \n",
      "1 - Incluir Novo Nome\n",
      "2 - Incluir Telefone\n",
      "3 - Excluir Telefone\n",
      "4 - Excluir Nome \n",
      "5 - Consultar Agenda\n",
      "0 - Encerrar Programa\n",
      "1\n",
      "Insira o nome da pessoa: Joao\n",
      "Insira um telefone da pessoa: 25\n",
      "Inserir outro telefone (ou deixe em branco para parar): 63\n",
      "Inserir outro telefone (ou deixe em branco para parar): \n",
      "\n",
      "Escolha uma opção: \n",
      "1 - Incluir Novo Nome\n",
      "2 - Incluir Telefone\n",
      "3 - Excluir Telefone\n",
      "4 - Excluir Nome \n",
      "5 - Consultar Agenda\n",
      "0 - Encerrar Programa\n",
      "5\n",
      "Insira o nome da pessoa: Joao\n",
      "['25', '63']\n",
      "\n",
      "Escolha uma opção: \n",
      "1 - Incluir Novo Nome\n",
      "2 - Incluir Telefone\n",
      "3 - Excluir Telefone\n",
      "4 - Excluir Nome \n",
      "5 - Consultar Agenda\n",
      "0 - Encerrar Programa\n",
      "2\n",
      "Insira o nome da pessoa: Joao\n",
      "Insira um novo telefone da pessoa: 47\n",
      "\n",
      "Escolha uma opção: \n",
      "1 - Incluir Novo Nome\n",
      "2 - Incluir Telefone\n",
      "3 - Excluir Telefone\n",
      "4 - Excluir Nome \n",
      "5 - Consultar Agenda\n",
      "0 - Encerrar Programa\n",
      "5\n",
      "Insira o nome da pessoa: Joao\n",
      "['25', '63', '47']\n",
      "\n",
      "Escolha uma opção: \n",
      "1 - Incluir Novo Nome\n",
      "2 - Incluir Telefone\n",
      "3 - Excluir Telefone\n",
      "4 - Excluir Nome \n",
      "5 - Consultar Agenda\n",
      "0 - Encerrar Programa\n",
      "3\n",
      "Insira o nome da pessoa: Joao\n",
      "Insira o telefone da pessoa a qual deseja excluir: 25\n",
      "\n",
      "Escolha uma opção: \n",
      "1 - Incluir Novo Nome\n",
      "2 - Incluir Telefone\n",
      "3 - Excluir Telefone\n",
      "4 - Excluir Nome \n",
      "5 - Consultar Agenda\n",
      "0 - Encerrar Programa\n",
      "5\n",
      "Insira o nome da pessoa: Joao\n",
      "['63', '47']\n",
      "\n",
      "Escolha uma opção: \n",
      "1 - Incluir Novo Nome\n",
      "2 - Incluir Telefone\n",
      "3 - Excluir Telefone\n",
      "4 - Excluir Nome \n",
      "5 - Consultar Agenda\n",
      "0 - Encerrar Programa\n",
      "0\n"
     ]
    }
   ],
   "source": [
    "agenda = {}\n",
    "\n",
    "def incluirNovoNome(nome, telefones):\n",
    "    agenda[nome] = telefones\n",
    "    \n",
    "def incluirTelefone(nome, telefone):\n",
    "    if nome in agenda.keys():\n",
    "        agenda[nome].append(telefone)\n",
    "    elif input(\"Essa pessoa não existe, incluir ela na agenda (s/n)? \") == \"s\":\n",
    "        incluirNovoNome(nome, [telefone])\n",
    "\n",
    "def excluirTelefone(nome, telefone):\n",
    "    if nome in agenda.keys():\n",
    "        if len(agenda[nome]) == 1:\n",
    "            del agenda[nome]\n",
    "        else:\n",
    "            agenda[nome].remove(telefone)\n",
    "\n",
    "def excluirNome(nome):\n",
    "    del agenda[nome]\n",
    "\n",
    "def consultarTelefone(nome):\n",
    "    return agenda[nome]\n",
    "\n",
    "opcao = -1\n",
    "while opcao != 0:\n",
    "    \n",
    "    opcao = int(input(\"\\nEscolha uma opção: \\n1 - Incluir Novo Nome\\n2 - Incluir Telefone\\n3 - Excluir Telefone\\n4 - Excluir Nome \\n5 - Consultar Agenda\\n0 - Encerrar Programa\\n\"))\n",
    "    \n",
    "    if opcao == 1:\n",
    "        nome = input(\"Insira o nome da pessoa: \")\n",
    "        telefones = []\n",
    "        telefone  = input(\"Insira um telefone da pessoa: \")\n",
    "        while telefone:\n",
    "            telefones.append(telefone)\n",
    "            telefone = input(\"Inserir outro telefone (ou deixe em branco para parar): \")\n",
    "        incluirNovoNome(nome, telefones)            \n",
    "    elif opcao == 2:\n",
    "        incluirTelefone(input(\"Insira o nome da pessoa: \"), input(\"Insira um novo telefone da pessoa: \"))\n",
    "    elif opcao == 3:\n",
    "        excluirTelefone(input(\"Insira o nome da pessoa: \"), input(\"Insira o telefone da pessoa a qual deseja excluir: \"))\n",
    "    elif opcao == 4:\n",
    "        excluirNome(input(\"Insira o nome da pessoa: \"))\n",
    "    elif opcao == 5:\n",
    "        print(consultarTelefone(input(\"Insira o nome da pessoa: \")))"
   ]
  },
  {
   "cell_type": "markdown",
   "metadata": {},
   "source": [
    "9 Faça um programa que leia um arquivo texto contendo uma lista de endereços IP e\n",
    "gere um outro arquivo, contendo um relatório dos endereços IP válidos e inválidos.\n",
    "O arquivo de entrada possui o seguinte formato:\n",
    "\n",
    "    200.135.80.9\n",
    "    192.168.1.1\n",
    "    8.35.67.74\n",
    "    257.32.4.5\n",
    "    85.345.1.2\n",
    "    1.2.3.4\n",
    "    9.8.234.5\n",
    "    192.168.0.256\n",
    "\n",
    "O arquivo de saída possui o seguinte formato:\n",
    "\n",
    "    [Endereços válidos:]\n",
    "    200.135.80.9\n",
    "    192.168.1.1\n",
    "    8.35.67.74\n",
    "    1.2.3.4\n",
    "    [Endereços inválidos:]\n",
    "    257.32.4.5\n",
    "    85.345.1.2\n",
    "    9.8.234.5\n",
    "    192.168.0.256"
   ]
  },
  {
   "cell_type": "code",
   "execution_count": 10,
   "metadata": {},
   "outputs": [],
   "source": [
    "import socket\n",
    "\n",
    "ips_validos = []\n",
    "ips_invalidos = []\n",
    "\n",
    "ips = open(\"ips.txt\")\n",
    "\n",
    "for ip in ips:\n",
    "    try:\n",
    "        socket.inet_aton(ip)\n",
    "        ips_validos.append(ip)\n",
    "    except:\n",
    "        ips_invalidos.append(ip)\n",
    "        \n",
    "ips.close()\n",
    "\n",
    "saida = open(\"ipsvalidados.txt\", \"w+\")\n",
    "\n",
    "saida.write(\"[Endereços válidos:]\\n\")\n",
    "for ip in ips_validos:\n",
    "    saida.write(ip)\n",
    "    \n",
    "saida.write(\"\\nEndereços inválidos:}\\n\")\n",
    "for ip in ips_invalidos:\n",
    "    saida.write(ip)\n",
    "    \n",
    "saida.close()"
   ]
  },
  {
   "cell_type": "markdown",
   "metadata": {},
   "source": [
    "10 A ACME Inc., uma empresa de 500 funcionários, está tendo problemas de espaço\n",
    "em disco no seu servidor de arquivos. Para tentar resolver este problema, o\n",
    "Administrador de Rede precisa saber qual o espaço ocupado pelos usuários, e\n",
    "identificar os usuários com maior espaço ocupado. Através de um programa, baixado\n",
    "da Internet, ele conseguiu gerar o seguinte arquivo, chamado \"usuarios.txt\":\n",
    "\n",
    "    alexandre 456123789\n",
    "    anderson 1245698456\n",
    "    antonio 123456456\n",
    "    carlos 91257581\n",
    "    cesar 987458\n",
    "    rosemary 789456125\n",
    "    \n",
    "Neste arquivo, o nome do usuário possui 15 caracteres. A partir deste arquivo, você\n",
    "deve criar um programa que gere um relatório, chamado \"relatório.txt\", no seguinte\n",
    "formato:\n",
    "\n",
    "    ACME Inc. Uso do espaço em disco pelos usuários\n",
    "    --------------------------------------------------------------\n",
    "    ----------\n",
    "    Nr. Usuário Espaço utilizado % do uso\n",
    "    1 alexandre 434,99 MB 16,85%\n",
    "    2 anderson 1187,99 MB 46,02%\n",
    "    3 antonio 117,73 MB 4,56%\n",
    "    4 carlos 87,03 MB 3,37%\n",
    "    5 cesar 0,94 MB 0,04%\n",
    "    6 rosemary 752,88 MB 29,16%\n",
    "    Espaço total ocupado: 2581,57 MB\n",
    "    Espaço médio ocupado: 430,26 MB\n",
    "    \n",
    "O arquivo de entrada deve ser lido uma única vez, e os dados armazenados em\n",
    "memória, caso sejam necessários, de forma a agilizar a execução do programa. A\n",
    "conversão da espaço ocupado em disco, de bytes para megabytes deverá ser feita\n",
    "através de uma função separada, que será chamada pelo programa principal. O\n",
    "cálculo do percentual de uso também deverá ser feito através de uma função, que\n",
    "será chamada pelo programa principal."
   ]
  },
  {
   "cell_type": "code",
   "execution_count": 24,
   "metadata": {},
   "outputs": [],
   "source": [
    "def paraMb(tamanho):\n",
    "    return float(tamanho / (1024*1024))\n",
    "\n",
    "def usoMemoria(tamanho, total):\n",
    "    return float(tamanho / total) * 100\n",
    "\n",
    "dic = {}\n",
    "total = 0\n",
    "usuarios = open(\"usuarios.txt\")\n",
    "for usuario in usuarios:\n",
    "    nome, memoria = usuario.split(\" \")\n",
    "    dic[nome] = int(memoria)\n",
    "    total += int(memoria)\n",
    "usuarios.close()\n",
    "media = total / len(dic.keys())\n",
    "\n",
    "relatorio = open(\"relatório.txt\", \"w+\")\n",
    "relatorio.write(\"ACME Inc.               Uso do espaço em disco pelos usuários.\\n\")\n",
    "relatorio.write(\"--------------------------------------------------------------\\n\")\n",
    "relatorio.write(\"Nr.\\tUsuário \\tEspaço utilizado\\t% do uso\\n\")\n",
    "\n",
    "nr = 1\n",
    "\n",
    "for usuario in dic:\n",
    "    relatorio.write(f'{str(nr)}\\t{usuario}   \\t{paraMb(dic[usuario]):.2f} MB   \\t\\t{usoMemoria(dic[usuario], total):.2f} \\n')\n",
    "    nr += 1\n",
    "    \n",
    "relatorio.write(f'Espaço total ocupado: {paraMb(total):.2f}\\n' +\n",
    "                f'Espaço médio ocupado {paraMb(media):.2f}')\n",
    "\n",
    "relatorio.close()"
   ]
  },
  {
   "cell_type": "code",
   "execution_count": null,
   "metadata": {},
   "outputs": [],
   "source": []
  }
 ],
 "metadata": {
  "kernelspec": {
   "display_name": "Python 3",
   "language": "python",
   "name": "python3"
  },
  "language_info": {
   "codemirror_mode": {
    "name": "ipython",
    "version": 3
   },
   "file_extension": ".py",
   "mimetype": "text/x-python",
   "name": "python",
   "nbconvert_exporter": "python",
   "pygments_lexer": "ipython3",
   "version": "3.7.1"
  }
 },
 "nbformat": 4,
 "nbformat_minor": 2
}
